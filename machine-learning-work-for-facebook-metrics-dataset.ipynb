{
 "cells": [
  {
   "cell_type": "markdown",
   "id": "da2413a2",
   "metadata": {
    "papermill": {
     "duration": 0.007184,
     "end_time": "2024-08-16T13:20:12.392171",
     "exception": false,
     "start_time": "2024-08-16T13:20:12.384987",
     "status": "completed"
    },
    "tags": []
   },
   "source": [
    "# Machine Learning Work for Facebook Metrics Dataset\n",
    "\n",
    "This dataset is about a campaign from a famous costemic brand. Between 1 January 2014 and 31 December 2014 dates, this brand did this campaign on Facebook.\n",
    "\n",
    "What will we do here is visualize some data from this, and create a regression prediction model for predicting <code>Total Interactions</code>. Let's start this notebook with the required imports."
   ]
  },
  {
   "cell_type": "code",
   "execution_count": 1,
   "id": "320c063d",
   "metadata": {
    "execution": {
     "iopub.execute_input": "2024-08-16T13:20:12.408229Z",
     "iopub.status.busy": "2024-08-16T13:20:12.407342Z",
     "iopub.status.idle": "2024-08-16T13:20:16.115378Z",
     "shell.execute_reply": "2024-08-16T13:20:16.114292Z"
    },
    "papermill": {
     "duration": 3.718831,
     "end_time": "2024-08-16T13:20:16.117901",
     "exception": false,
     "start_time": "2024-08-16T13:20:12.399070",
     "status": "completed"
    },
    "tags": []
   },
   "outputs": [
    {
     "name": "stdout",
     "output_type": "stream",
     "text": [
      "Imports are successful.\n"
     ]
    }
   ],
   "source": [
    "# imports\n",
    "import pandas as pd\n",
    "import matplotlib.pyplot as plt\n",
    "import seaborn as sns\n",
    "import plotly.express as px\n",
    "from sklearn.linear_model import LinearRegression\n",
    "from sklearn.metrics import mean_squared_error, mean_absolute_percentage_error\n",
    "from sklearn.model_selection import train_test_split\n",
    "from math import sqrt\n",
    "\n",
    "print('Imports are successful.')"
   ]
  },
  {
   "cell_type": "markdown",
   "id": "77c4b4e5",
   "metadata": {
    "papermill": {
     "duration": 0.006496,
     "end_time": "2024-08-16T13:20:16.131288",
     "exception": false,
     "start_time": "2024-08-16T13:20:16.124792",
     "status": "completed"
    },
    "tags": []
   },
   "source": [
    "We are ready to take our dataset into our <code>df</code> variable. \n",
    "\n",
    "After that, we drop the unrequired columns from our data:\n",
    "* One of them is <code>Unnamed: 0</code>, because it looks like an index column.\n",
    "* Other one is <code>comment</code> column, because it is a mathematical addition element of <code>Total Interactions</code> column.\n",
    "* <code>like</code> and <code>share</code> elements also dropped, because they are the same element with <code>comment</code> column.\n",
    "\n",
    "Let's continue."
   ]
  },
  {
   "cell_type": "code",
   "execution_count": 2,
   "id": "cfe37544",
   "metadata": {
    "_cell_guid": "b1076dfc-b9ad-4769-8c92-a6c4dae69d19",
    "_uuid": "8f2839f25d086af736a60e9eeb907d3b93b6e0e5",
    "execution": {
     "iopub.execute_input": "2024-08-16T13:20:16.147721Z",
     "iopub.status.busy": "2024-08-16T13:20:16.146907Z",
     "iopub.status.idle": "2024-08-16T13:20:16.208727Z",
     "shell.execute_reply": "2024-08-16T13:20:16.207566Z"
    },
    "papermill": {
     "duration": 0.072328,
     "end_time": "2024-08-16T13:20:16.210999",
     "exception": false,
     "start_time": "2024-08-16T13:20:16.138671",
     "status": "completed"
    },
    "tags": []
   },
   "outputs": [
    {
     "data": {
      "text/html": [
       "<div>\n",
       "<style scoped>\n",
       "    .dataframe tbody tr th:only-of-type {\n",
       "        vertical-align: middle;\n",
       "    }\n",
       "\n",
       "    .dataframe tbody tr th {\n",
       "        vertical-align: top;\n",
       "    }\n",
       "\n",
       "    .dataframe thead th {\n",
       "        text-align: right;\n",
       "    }\n",
       "</style>\n",
       "<table border=\"1\" class=\"dataframe\">\n",
       "  <thead>\n",
       "    <tr style=\"text-align: right;\">\n",
       "      <th></th>\n",
       "      <th>Page total likes</th>\n",
       "      <th>Type</th>\n",
       "      <th>Category</th>\n",
       "      <th>Post Month</th>\n",
       "      <th>Post Weekday</th>\n",
       "      <th>Post Hour</th>\n",
       "      <th>Paid</th>\n",
       "      <th>Lifetime Post Total Reach</th>\n",
       "      <th>Lifetime Post Total Impressions</th>\n",
       "      <th>Lifetime Engaged Users</th>\n",
       "      <th>Lifetime Post Consumers</th>\n",
       "      <th>Lifetime Post Consumptions</th>\n",
       "      <th>Lifetime Post Impressions by people who have liked your Page</th>\n",
       "      <th>Lifetime Post reach by people who like your Page</th>\n",
       "      <th>Lifetime People who have liked your Page and engaged with your post</th>\n",
       "      <th>Total Interactions</th>\n",
       "    </tr>\n",
       "  </thead>\n",
       "  <tbody>\n",
       "    <tr>\n",
       "      <th>0</th>\n",
       "      <td>139441</td>\n",
       "      <td>Photo</td>\n",
       "      <td>2</td>\n",
       "      <td>12</td>\n",
       "      <td>4</td>\n",
       "      <td>3</td>\n",
       "      <td>0.0</td>\n",
       "      <td>2752</td>\n",
       "      <td>5091</td>\n",
       "      <td>178</td>\n",
       "      <td>109</td>\n",
       "      <td>159</td>\n",
       "      <td>3078</td>\n",
       "      <td>1640</td>\n",
       "      <td>119</td>\n",
       "      <td>100</td>\n",
       "    </tr>\n",
       "    <tr>\n",
       "      <th>1</th>\n",
       "      <td>139441</td>\n",
       "      <td>Status</td>\n",
       "      <td>2</td>\n",
       "      <td>12</td>\n",
       "      <td>3</td>\n",
       "      <td>10</td>\n",
       "      <td>0.0</td>\n",
       "      <td>10460</td>\n",
       "      <td>19057</td>\n",
       "      <td>1457</td>\n",
       "      <td>1361</td>\n",
       "      <td>1674</td>\n",
       "      <td>11710</td>\n",
       "      <td>6112</td>\n",
       "      <td>1108</td>\n",
       "      <td>164</td>\n",
       "    </tr>\n",
       "    <tr>\n",
       "      <th>2</th>\n",
       "      <td>139441</td>\n",
       "      <td>Photo</td>\n",
       "      <td>3</td>\n",
       "      <td>12</td>\n",
       "      <td>3</td>\n",
       "      <td>3</td>\n",
       "      <td>0.0</td>\n",
       "      <td>2413</td>\n",
       "      <td>4373</td>\n",
       "      <td>177</td>\n",
       "      <td>113</td>\n",
       "      <td>154</td>\n",
       "      <td>2812</td>\n",
       "      <td>1503</td>\n",
       "      <td>132</td>\n",
       "      <td>80</td>\n",
       "    </tr>\n",
       "    <tr>\n",
       "      <th>3</th>\n",
       "      <td>139441</td>\n",
       "      <td>Photo</td>\n",
       "      <td>2</td>\n",
       "      <td>12</td>\n",
       "      <td>2</td>\n",
       "      <td>10</td>\n",
       "      <td>1.0</td>\n",
       "      <td>50128</td>\n",
       "      <td>87991</td>\n",
       "      <td>2211</td>\n",
       "      <td>790</td>\n",
       "      <td>1119</td>\n",
       "      <td>61027</td>\n",
       "      <td>32048</td>\n",
       "      <td>1386</td>\n",
       "      <td>1777</td>\n",
       "    </tr>\n",
       "    <tr>\n",
       "      <th>4</th>\n",
       "      <td>139441</td>\n",
       "      <td>Photo</td>\n",
       "      <td>2</td>\n",
       "      <td>12</td>\n",
       "      <td>2</td>\n",
       "      <td>3</td>\n",
       "      <td>0.0</td>\n",
       "      <td>7244</td>\n",
       "      <td>13594</td>\n",
       "      <td>671</td>\n",
       "      <td>410</td>\n",
       "      <td>580</td>\n",
       "      <td>6228</td>\n",
       "      <td>3200</td>\n",
       "      <td>396</td>\n",
       "      <td>393</td>\n",
       "    </tr>\n",
       "  </tbody>\n",
       "</table>\n",
       "</div>"
      ],
      "text/plain": [
       "   Page total likes    Type  Category  Post Month  Post Weekday  Post Hour  \\\n",
       "0            139441   Photo         2          12             4          3   \n",
       "1            139441  Status         2          12             3         10   \n",
       "2            139441   Photo         3          12             3          3   \n",
       "3            139441   Photo         2          12             2         10   \n",
       "4            139441   Photo         2          12             2          3   \n",
       "\n",
       "   Paid  Lifetime Post Total Reach  Lifetime Post Total Impressions  \\\n",
       "0   0.0                       2752                             5091   \n",
       "1   0.0                      10460                            19057   \n",
       "2   0.0                       2413                             4373   \n",
       "3   1.0                      50128                            87991   \n",
       "4   0.0                       7244                            13594   \n",
       "\n",
       "   Lifetime Engaged Users  Lifetime Post Consumers  \\\n",
       "0                     178                      109   \n",
       "1                    1457                     1361   \n",
       "2                     177                      113   \n",
       "3                    2211                      790   \n",
       "4                     671                      410   \n",
       "\n",
       "   Lifetime Post Consumptions  \\\n",
       "0                         159   \n",
       "1                        1674   \n",
       "2                         154   \n",
       "3                        1119   \n",
       "4                         580   \n",
       "\n",
       "   Lifetime Post Impressions by people who have liked your Page  \\\n",
       "0                                               3078              \n",
       "1                                              11710              \n",
       "2                                               2812              \n",
       "3                                              61027              \n",
       "4                                               6228              \n",
       "\n",
       "   Lifetime Post reach by people who like your Page  \\\n",
       "0                                              1640   \n",
       "1                                              6112   \n",
       "2                                              1503   \n",
       "3                                             32048   \n",
       "4                                              3200   \n",
       "\n",
       "   Lifetime People who have liked your Page and engaged with your post  \\\n",
       "0                                                119                     \n",
       "1                                               1108                     \n",
       "2                                                132                     \n",
       "3                                               1386                     \n",
       "4                                                396                     \n",
       "\n",
       "   Total Interactions  \n",
       "0                 100  \n",
       "1                 164  \n",
       "2                  80  \n",
       "3                1777  \n",
       "4                 393  "
      ]
     },
     "execution_count": 2,
     "metadata": {},
     "output_type": "execute_result"
    }
   ],
   "source": [
    "# read the dataset by df variable\n",
    "df = pd.read_csv('/kaggle/input/facebook-metrics-dataset-of-cosmetic-brand/Facebook Metrics of Cosmetic Brand.csv')\n",
    "# we drop these columns here as they will not be needed for our operation\n",
    "df.drop(['Unnamed: 0', 'comment', 'like', 'share'], axis=1, inplace=True)\n",
    "df.head()"
   ]
  },
  {
   "cell_type": "markdown",
   "id": "2520491a",
   "metadata": {
    "papermill": {
     "duration": 0.007176,
     "end_time": "2024-08-16T13:20:16.225790",
     "exception": false,
     "start_time": "2024-08-16T13:20:16.218614",
     "status": "completed"
    },
    "tags": []
   },
   "source": [
    "Review the dataset's features and their types."
   ]
  },
  {
   "cell_type": "code",
   "execution_count": 3,
   "id": "42f555c3",
   "metadata": {
    "execution": {
     "iopub.execute_input": "2024-08-16T13:20:16.242010Z",
     "iopub.status.busy": "2024-08-16T13:20:16.241593Z",
     "iopub.status.idle": "2024-08-16T13:20:16.269640Z",
     "shell.execute_reply": "2024-08-16T13:20:16.268313Z"
    },
    "papermill": {
     "duration": 0.039565,
     "end_time": "2024-08-16T13:20:16.272435",
     "exception": false,
     "start_time": "2024-08-16T13:20:16.232870",
     "status": "completed"
    },
    "tags": []
   },
   "outputs": [
    {
     "name": "stdout",
     "output_type": "stream",
     "text": [
      "Facebook Metrics of Cosmetic Brand Dataset\n",
      "\n",
      "<class 'pandas.core.frame.DataFrame'>\n",
      "RangeIndex: 500 entries, 0 to 499\n",
      "Data columns (total 16 columns):\n",
      " #   Column                                                               Non-Null Count  Dtype  \n",
      "---  ------                                                               --------------  -----  \n",
      " 0   Page total likes                                                     500 non-null    int64  \n",
      " 1   Type                                                                 500 non-null    object \n",
      " 2   Category                                                             500 non-null    int64  \n",
      " 3   Post Month                                                           500 non-null    int64  \n",
      " 4   Post Weekday                                                         500 non-null    int64  \n",
      " 5   Post Hour                                                            500 non-null    int64  \n",
      " 6   Paid                                                                 499 non-null    float64\n",
      " 7   Lifetime Post Total Reach                                            500 non-null    int64  \n",
      " 8   Lifetime Post Total Impressions                                      500 non-null    int64  \n",
      " 9   Lifetime Engaged Users                                               500 non-null    int64  \n",
      " 10  Lifetime Post Consumers                                              500 non-null    int64  \n",
      " 11  Lifetime Post Consumptions                                           500 non-null    int64  \n",
      " 12  Lifetime Post Impressions by people who have liked your Page         500 non-null    int64  \n",
      " 13  Lifetime Post reach by people who like your Page                     500 non-null    int64  \n",
      " 14  Lifetime People who have liked your Page and engaged with your post  500 non-null    int64  \n",
      " 15  Total Interactions                                                   500 non-null    int64  \n",
      "dtypes: float64(1), int64(14), object(1)\n",
      "memory usage: 62.6+ KB\n"
     ]
    }
   ],
   "source": [
    "# infos about dataset, especially columns\n",
    "print('Facebook Metrics of Cosmetic Brand Dataset\\n')\n",
    "df.info()"
   ]
  },
  {
   "cell_type": "markdown",
   "id": "88ade00a",
   "metadata": {
    "papermill": {
     "duration": 0.007148,
     "end_time": "2024-08-16T13:20:16.287376",
     "exception": false,
     "start_time": "2024-08-16T13:20:16.280228",
     "status": "completed"
    },
    "tags": []
   },
   "source": [
    "Our columns are generally numerical... Perfect! That's what we really want.\n",
    "\n",
    "We have not so many things in our data preprocessing part. But before, let's visualize our data. After that, we try to change our <code>Type</code> columns numerical."
   ]
  },
  {
   "cell_type": "code",
   "execution_count": 4,
   "id": "60f85631",
   "metadata": {
    "execution": {
     "iopub.execute_input": "2024-08-16T13:20:16.304716Z",
     "iopub.status.busy": "2024-08-16T13:20:16.304310Z",
     "iopub.status.idle": "2024-08-16T13:20:16.359751Z",
     "shell.execute_reply": "2024-08-16T13:20:16.358558Z"
    },
    "papermill": {
     "duration": 0.068321,
     "end_time": "2024-08-16T13:20:16.362961",
     "exception": false,
     "start_time": "2024-08-16T13:20:16.294640",
     "status": "completed"
    },
    "tags": []
   },
   "outputs": [
    {
     "data": {
      "text/html": [
       "<div>\n",
       "<style scoped>\n",
       "    .dataframe tbody tr th:only-of-type {\n",
       "        vertical-align: middle;\n",
       "    }\n",
       "\n",
       "    .dataframe tbody tr th {\n",
       "        vertical-align: top;\n",
       "    }\n",
       "\n",
       "    .dataframe thead th {\n",
       "        text-align: right;\n",
       "    }\n",
       "</style>\n",
       "<table border=\"1\" class=\"dataframe\">\n",
       "  <thead>\n",
       "    <tr style=\"text-align: right;\">\n",
       "      <th></th>\n",
       "      <th>Page total likes</th>\n",
       "      <th>Category</th>\n",
       "      <th>Post Month</th>\n",
       "      <th>Post Weekday</th>\n",
       "      <th>Post Hour</th>\n",
       "      <th>Paid</th>\n",
       "      <th>Lifetime Post Total Reach</th>\n",
       "      <th>Lifetime Post Total Impressions</th>\n",
       "      <th>Lifetime Engaged Users</th>\n",
       "      <th>Lifetime Post Consumers</th>\n",
       "      <th>Lifetime Post Consumptions</th>\n",
       "      <th>Lifetime Post Impressions by people who have liked your Page</th>\n",
       "      <th>Lifetime Post reach by people who like your Page</th>\n",
       "      <th>Lifetime People who have liked your Page and engaged with your post</th>\n",
       "      <th>Total Interactions</th>\n",
       "    </tr>\n",
       "  </thead>\n",
       "  <tbody>\n",
       "    <tr>\n",
       "      <th>count</th>\n",
       "      <td>500.000000</td>\n",
       "      <td>500.000000</td>\n",
       "      <td>500.000000</td>\n",
       "      <td>500.000000</td>\n",
       "      <td>500.000000</td>\n",
       "      <td>499.000000</td>\n",
       "      <td>500.00000</td>\n",
       "      <td>5.000000e+02</td>\n",
       "      <td>500.000000</td>\n",
       "      <td>500.000000</td>\n",
       "      <td>500.000000</td>\n",
       "      <td>5.000000e+02</td>\n",
       "      <td>500.000000</td>\n",
       "      <td>500.000000</td>\n",
       "      <td>500.000000</td>\n",
       "    </tr>\n",
       "    <tr>\n",
       "      <th>mean</th>\n",
       "      <td>123194.176000</td>\n",
       "      <td>1.880000</td>\n",
       "      <td>7.038000</td>\n",
       "      <td>4.150000</td>\n",
       "      <td>7.840000</td>\n",
       "      <td>0.278557</td>\n",
       "      <td>13903.36000</td>\n",
       "      <td>2.958595e+04</td>\n",
       "      <td>920.344000</td>\n",
       "      <td>798.772000</td>\n",
       "      <td>1415.130000</td>\n",
       "      <td>1.676638e+04</td>\n",
       "      <td>6585.488000</td>\n",
       "      <td>609.986000</td>\n",
       "      <td>212.120000</td>\n",
       "    </tr>\n",
       "    <tr>\n",
       "      <th>std</th>\n",
       "      <td>16272.813214</td>\n",
       "      <td>0.852675</td>\n",
       "      <td>3.307936</td>\n",
       "      <td>2.030701</td>\n",
       "      <td>4.368589</td>\n",
       "      <td>0.448739</td>\n",
       "      <td>22740.78789</td>\n",
       "      <td>7.680325e+04</td>\n",
       "      <td>985.016636</td>\n",
       "      <td>882.505013</td>\n",
       "      <td>2000.594118</td>\n",
       "      <td>5.979102e+04</td>\n",
       "      <td>7682.009405</td>\n",
       "      <td>612.725618</td>\n",
       "      <td>380.233118</td>\n",
       "    </tr>\n",
       "    <tr>\n",
       "      <th>min</th>\n",
       "      <td>81370.000000</td>\n",
       "      <td>1.000000</td>\n",
       "      <td>1.000000</td>\n",
       "      <td>1.000000</td>\n",
       "      <td>1.000000</td>\n",
       "      <td>0.000000</td>\n",
       "      <td>238.00000</td>\n",
       "      <td>5.700000e+02</td>\n",
       "      <td>9.000000</td>\n",
       "      <td>9.000000</td>\n",
       "      <td>9.000000</td>\n",
       "      <td>5.670000e+02</td>\n",
       "      <td>236.000000</td>\n",
       "      <td>9.000000</td>\n",
       "      <td>0.000000</td>\n",
       "    </tr>\n",
       "    <tr>\n",
       "      <th>25%</th>\n",
       "      <td>112676.000000</td>\n",
       "      <td>1.000000</td>\n",
       "      <td>4.000000</td>\n",
       "      <td>2.000000</td>\n",
       "      <td>3.000000</td>\n",
       "      <td>0.000000</td>\n",
       "      <td>3315.00000</td>\n",
       "      <td>5.694750e+03</td>\n",
       "      <td>393.750000</td>\n",
       "      <td>332.500000</td>\n",
       "      <td>509.250000</td>\n",
       "      <td>3.969750e+03</td>\n",
       "      <td>2181.500000</td>\n",
       "      <td>291.000000</td>\n",
       "      <td>71.000000</td>\n",
       "    </tr>\n",
       "    <tr>\n",
       "      <th>50%</th>\n",
       "      <td>129600.000000</td>\n",
       "      <td>2.000000</td>\n",
       "      <td>7.000000</td>\n",
       "      <td>4.000000</td>\n",
       "      <td>9.000000</td>\n",
       "      <td>0.000000</td>\n",
       "      <td>5281.00000</td>\n",
       "      <td>9.051000e+03</td>\n",
       "      <td>625.500000</td>\n",
       "      <td>551.500000</td>\n",
       "      <td>851.000000</td>\n",
       "      <td>6.255500e+03</td>\n",
       "      <td>3417.000000</td>\n",
       "      <td>412.000000</td>\n",
       "      <td>123.500000</td>\n",
       "    </tr>\n",
       "    <tr>\n",
       "      <th>75%</th>\n",
       "      <td>136393.000000</td>\n",
       "      <td>3.000000</td>\n",
       "      <td>10.000000</td>\n",
       "      <td>6.000000</td>\n",
       "      <td>11.000000</td>\n",
       "      <td>1.000000</td>\n",
       "      <td>13168.00000</td>\n",
       "      <td>2.208550e+04</td>\n",
       "      <td>1062.000000</td>\n",
       "      <td>955.500000</td>\n",
       "      <td>1463.000000</td>\n",
       "      <td>1.486050e+04</td>\n",
       "      <td>7989.000000</td>\n",
       "      <td>656.250000</td>\n",
       "      <td>228.500000</td>\n",
       "    </tr>\n",
       "    <tr>\n",
       "      <th>max</th>\n",
       "      <td>139441.000000</td>\n",
       "      <td>3.000000</td>\n",
       "      <td>12.000000</td>\n",
       "      <td>7.000000</td>\n",
       "      <td>23.000000</td>\n",
       "      <td>1.000000</td>\n",
       "      <td>180480.00000</td>\n",
       "      <td>1.110282e+06</td>\n",
       "      <td>11452.000000</td>\n",
       "      <td>11328.000000</td>\n",
       "      <td>19779.000000</td>\n",
       "      <td>1.107833e+06</td>\n",
       "      <td>51456.000000</td>\n",
       "      <td>4376.000000</td>\n",
       "      <td>6334.000000</td>\n",
       "    </tr>\n",
       "  </tbody>\n",
       "</table>\n",
       "</div>"
      ],
      "text/plain": [
       "       Page total likes    Category  Post Month  Post Weekday   Post Hour  \\\n",
       "count        500.000000  500.000000  500.000000    500.000000  500.000000   \n",
       "mean      123194.176000    1.880000    7.038000      4.150000    7.840000   \n",
       "std        16272.813214    0.852675    3.307936      2.030701    4.368589   \n",
       "min        81370.000000    1.000000    1.000000      1.000000    1.000000   \n",
       "25%       112676.000000    1.000000    4.000000      2.000000    3.000000   \n",
       "50%       129600.000000    2.000000    7.000000      4.000000    9.000000   \n",
       "75%       136393.000000    3.000000   10.000000      6.000000   11.000000   \n",
       "max       139441.000000    3.000000   12.000000      7.000000   23.000000   \n",
       "\n",
       "             Paid  Lifetime Post Total Reach  Lifetime Post Total Impressions  \\\n",
       "count  499.000000                  500.00000                     5.000000e+02   \n",
       "mean     0.278557                13903.36000                     2.958595e+04   \n",
       "std      0.448739                22740.78789                     7.680325e+04   \n",
       "min      0.000000                  238.00000                     5.700000e+02   \n",
       "25%      0.000000                 3315.00000                     5.694750e+03   \n",
       "50%      0.000000                 5281.00000                     9.051000e+03   \n",
       "75%      1.000000                13168.00000                     2.208550e+04   \n",
       "max      1.000000               180480.00000                     1.110282e+06   \n",
       "\n",
       "       Lifetime Engaged Users  Lifetime Post Consumers  \\\n",
       "count              500.000000               500.000000   \n",
       "mean               920.344000               798.772000   \n",
       "std                985.016636               882.505013   \n",
       "min                  9.000000                 9.000000   \n",
       "25%                393.750000               332.500000   \n",
       "50%                625.500000               551.500000   \n",
       "75%               1062.000000               955.500000   \n",
       "max              11452.000000             11328.000000   \n",
       "\n",
       "       Lifetime Post Consumptions  \\\n",
       "count                  500.000000   \n",
       "mean                  1415.130000   \n",
       "std                   2000.594118   \n",
       "min                      9.000000   \n",
       "25%                    509.250000   \n",
       "50%                    851.000000   \n",
       "75%                   1463.000000   \n",
       "max                  19779.000000   \n",
       "\n",
       "       Lifetime Post Impressions by people who have liked your Page  \\\n",
       "count                                       5.000000e+02              \n",
       "mean                                        1.676638e+04              \n",
       "std                                         5.979102e+04              \n",
       "min                                         5.670000e+02              \n",
       "25%                                         3.969750e+03              \n",
       "50%                                         6.255500e+03              \n",
       "75%                                         1.486050e+04              \n",
       "max                                         1.107833e+06              \n",
       "\n",
       "       Lifetime Post reach by people who like your Page  \\\n",
       "count                                        500.000000   \n",
       "mean                                        6585.488000   \n",
       "std                                         7682.009405   \n",
       "min                                          236.000000   \n",
       "25%                                         2181.500000   \n",
       "50%                                         3417.000000   \n",
       "75%                                         7989.000000   \n",
       "max                                        51456.000000   \n",
       "\n",
       "       Lifetime People who have liked your Page and engaged with your post  \\\n",
       "count                                         500.000000                     \n",
       "mean                                          609.986000                     \n",
       "std                                           612.725618                     \n",
       "min                                             9.000000                     \n",
       "25%                                           291.000000                     \n",
       "50%                                           412.000000                     \n",
       "75%                                           656.250000                     \n",
       "max                                          4376.000000                     \n",
       "\n",
       "       Total Interactions  \n",
       "count          500.000000  \n",
       "mean           212.120000  \n",
       "std            380.233118  \n",
       "min              0.000000  \n",
       "25%             71.000000  \n",
       "50%            123.500000  \n",
       "75%            228.500000  \n",
       "max           6334.000000  "
      ]
     },
     "execution_count": 4,
     "metadata": {},
     "output_type": "execute_result"
    }
   ],
   "source": [
    "df.describe()"
   ]
  },
  {
   "cell_type": "markdown",
   "id": "e25c1f21",
   "metadata": {
    "papermill": {
     "duration": 0.008294,
     "end_time": "2024-08-16T13:20:16.380726",
     "exception": false,
     "start_time": "2024-08-16T13:20:16.372432",
     "status": "completed"
    },
    "tags": []
   },
   "source": [
    "## Data Visualization\n",
    "\n",
    "Firstly, let's look at for what kind of posts people like. There are many post types in Facebook like photos, status, videos, etc. Let's view this with a Pie Chart."
   ]
  },
  {
   "cell_type": "code",
   "execution_count": 5,
   "id": "5bd1a471",
   "metadata": {
    "execution": {
     "iopub.execute_input": "2024-08-16T13:20:16.399553Z",
     "iopub.status.busy": "2024-08-16T13:20:16.398429Z",
     "iopub.status.idle": "2024-08-16T13:20:18.365093Z",
     "shell.execute_reply": "2024-08-16T13:20:18.363710Z"
    },
    "papermill": {
     "duration": 1.978487,
     "end_time": "2024-08-16T13:20:18.367584",
     "exception": false,
     "start_time": "2024-08-16T13:20:16.389097",
     "status": "completed"
    },
    "tags": []
   },
   "outputs": [
    {
     "data": {
      "text/html": [
       "        <script type=\"text/javascript\">\n",
       "        window.PlotlyConfig = {MathJaxConfig: 'local'};\n",
       "        if (window.MathJax && window.MathJax.Hub && window.MathJax.Hub.Config) {window.MathJax.Hub.Config({SVG: {font: \"STIX-Web\"}});}\n",
       "        if (typeof require !== 'undefined') {\n",
       "        require.undef(\"plotly\");\n",
       "        requirejs.config({\n",
       "            paths: {\n",
       "                'plotly': ['https://cdn.plot.ly/plotly-2.27.0.min']\n",
       "            }\n",
       "        });\n",
       "        require(['plotly'], function(Plotly) {\n",
       "            window._Plotly = Plotly;\n",
       "        });\n",
       "        }\n",
       "        </script>\n",
       "        "
      ]
     },
     "metadata": {},
     "output_type": "display_data"
    },
    {
     "data": {
      "text/html": [
       "<div>                            <div id=\"15bc69eb-01af-451b-bb9f-40751e6cfe0e\" class=\"plotly-graph-div\" style=\"height:525px; width:100%;\"></div>            <script type=\"text/javascript\">                require([\"plotly\"], function(Plotly) {                    window.PLOTLYENV=window.PLOTLYENV || {};                                    if (document.getElementById(\"15bc69eb-01af-451b-bb9f-40751e6cfe0e\")) {                    Plotly.newPlot(                        \"15bc69eb-01af-451b-bb9f-40751e6cfe0e\",                        [{\"domain\":{\"x\":[0.0,1.0],\"y\":[0.0,1.0]},\"hovertemplate\":\"Type=%{label}\\u003cbr\\u003eTotal Interactions=%{value}\\u003cextra\\u003e\\u003c\\u002fextra\\u003e\",\"labels\":[\"Photo\",\"Status\",\"Photo\",\"Photo\",\"Photo\",\"Status\",\"Photo\",\"Photo\",\"Status\",\"Photo\",\"Status\",\"Photo\",\"Photo\",\"Photo\",\"Photo\",\"Status\",\"Photo\",\"Photo\",\"Status\",\"Photo\",\"Photo\",\"Photo\",\"Link\",\"Photo\",\"Status\",\"Status\",\"Status\",\"Photo\",\"Photo\",\"Video\",\"Photo\",\"Photo\",\"Photo\",\"Photo\",\"Photo\",\"Photo\",\"Photo\",\"Photo\",\"Status\",\"Photo\",\"Status\",\"Link\",\"Photo\",\"Link\",\"Photo\",\"Link\",\"Status\",\"Link\",\"Photo\",\"Link\",\"Photo\",\"Photo\",\"Photo\",\"Photo\",\"Photo\",\"Video\",\"Photo\",\"Photo\",\"Photo\",\"Photo\",\"Photo\",\"Photo\",\"Photo\",\"Photo\",\"Photo\",\"Photo\",\"Photo\",\"Photo\",\"Photo\",\"Photo\",\"Photo\",\"Video\",\"Status\",\"Photo\",\"Video\",\"Photo\",\"Photo\",\"Photo\",\"Photo\",\"Photo\",\"Status\",\"Photo\",\"Photo\",\"Photo\",\"Status\",\"Photo\",\"Link\",\"Photo\",\"Photo\",\"Photo\",\"Photo\",\"Photo\",\"Photo\",\"Photo\",\"Photo\",\"Photo\",\"Photo\",\"Photo\",\"Status\",\"Photo\",\"Photo\",\"Photo\",\"Photo\",\"Photo\",\"Photo\",\"Photo\",\"Photo\",\"Status\",\"Photo\",\"Status\",\"Photo\",\"Photo\",\"Photo\",\"Photo\",\"Photo\",\"Photo\",\"Photo\",\"Photo\",\"Photo\",\"Photo\",\"Photo\",\"Status\",\"Photo\",\"Photo\",\"Photo\",\"Photo\",\"Photo\",\"Photo\",\"Photo\",\"Photo\",\"Photo\",\"Photo\",\"Photo\",\"Photo\",\"Photo\",\"Photo\",\"Link\",\"Photo\",\"Status\",\"Photo\",\"Link\",\"Status\",\"Status\",\"Photo\",\"Photo\",\"Photo\",\"Photo\",\"Photo\",\"Status\",\"Link\",\"Photo\",\"Photo\",\"Photo\",\"Photo\",\"Photo\",\"Photo\",\"Photo\",\"Photo\",\"Photo\",\"Photo\",\"Photo\",\"Photo\",\"Photo\",\"Status\",\"Photo\",\"Photo\",\"Photo\",\"Photo\",\"Photo\",\"Photo\",\"Photo\",\"Photo\",\"Status\",\"Photo\",\"Photo\",\"Status\",\"Photo\",\"Photo\",\"Photo\",\"Photo\",\"Status\",\"Photo\",\"Photo\",\"Video\",\"Photo\",\"Photo\",\"Photo\",\"Photo\",\"Photo\",\"Photo\",\"Photo\",\"Photo\",\"Photo\",\"Photo\",\"Photo\",\"Photo\",\"Photo\",\"Photo\",\"Photo\",\"Photo\",\"Photo\",\"Photo\",\"Status\",\"Photo\",\"Photo\",\"Photo\",\"Photo\",\"Photo\",\"Photo\",\"Photo\",\"Photo\",\"Photo\",\"Photo\",\"Photo\",\"Photo\",\"Photo\",\"Photo\",\"Status\",\"Photo\",\"Photo\",\"Photo\",\"Photo\",\"Status\",\"Status\",\"Photo\",\"Status\",\"Photo\",\"Photo\",\"Photo\",\"Photo\",\"Photo\",\"Photo\",\"Status\",\"Photo\",\"Photo\",\"Status\",\"Photo\",\"Photo\",\"Photo\",\"Photo\",\"Photo\",\"Photo\",\"Status\",\"Video\",\"Photo\",\"Photo\",\"Photo\",\"Photo\",\"Photo\",\"Photo\",\"Photo\",\"Photo\",\"Photo\",\"Status\",\"Photo\",\"Photo\",\"Photo\",\"Photo\",\"Photo\",\"Photo\",\"Photo\",\"Photo\",\"Photo\",\"Photo\",\"Photo\",\"Photo\",\"Photo\",\"Status\",\"Photo\",\"Photo\",\"Photo\",\"Photo\",\"Photo\",\"Photo\",\"Photo\",\"Status\",\"Photo\",\"Video\",\"Photo\",\"Photo\",\"Photo\",\"Photo\",\"Status\",\"Photo\",\"Photo\",\"Status\",\"Photo\",\"Photo\",\"Photo\",\"Photo\",\"Photo\",\"Photo\",\"Photo\",\"Photo\",\"Photo\",\"Photo\",\"Photo\",\"Photo\",\"Photo\",\"Photo\",\"Photo\",\"Photo\",\"Photo\",\"Photo\",\"Photo\",\"Photo\",\"Photo\",\"Photo\",\"Photo\",\"Photo\",\"Photo\",\"Photo\",\"Photo\",\"Photo\",\"Photo\",\"Photo\",\"Photo\",\"Photo\",\"Photo\",\"Photo\",\"Photo\",\"Photo\",\"Photo\",\"Photo\",\"Photo\",\"Photo\",\"Photo\",\"Photo\",\"Photo\",\"Photo\",\"Photo\",\"Photo\",\"Photo\",\"Photo\",\"Status\",\"Photo\",\"Photo\",\"Photo\",\"Photo\",\"Photo\",\"Photo\",\"Photo\",\"Photo\",\"Photo\",\"Link\",\"Photo\",\"Photo\",\"Photo\",\"Photo\",\"Photo\",\"Photo\",\"Photo\",\"Status\",\"Photo\",\"Photo\",\"Photo\",\"Photo\",\"Photo\",\"Photo\",\"Photo\",\"Photo\",\"Photo\",\"Status\",\"Photo\",\"Photo\",\"Photo\",\"Photo\",\"Photo\",\"Photo\",\"Photo\",\"Photo\",\"Status\",\"Link\",\"Photo\",\"Photo\",\"Photo\",\"Photo\",\"Photo\",\"Photo\",\"Photo\",\"Photo\",\"Photo\",\"Photo\",\"Photo\",\"Photo\",\"Photo\",\"Photo\",\"Photo\",\"Photo\",\"Photo\",\"Photo\",\"Photo\",\"Photo\",\"Photo\",\"Photo\",\"Photo\",\"Photo\",\"Photo\",\"Photo\",\"Photo\",\"Photo\",\"Photo\",\"Photo\",\"Link\",\"Photo\",\"Photo\",\"Photo\",\"Photo\",\"Link\",\"Photo\",\"Photo\",\"Photo\",\"Photo\",\"Photo\",\"Photo\",\"Photo\",\"Status\",\"Photo\",\"Photo\",\"Photo\",\"Photo\",\"Photo\",\"Photo\",\"Photo\",\"Photo\",\"Link\",\"Photo\",\"Photo\",\"Photo\",\"Photo\",\"Link\",\"Photo\",\"Photo\",\"Photo\",\"Photo\",\"Photo\",\"Photo\",\"Photo\",\"Link\",\"Photo\",\"Photo\",\"Photo\",\"Photo\",\"Photo\",\"Photo\",\"Photo\",\"Photo\",\"Photo\",\"Photo\",\"Photo\",\"Photo\",\"Photo\",\"Photo\",\"Photo\",\"Photo\",\"Photo\",\"Photo\",\"Photo\",\"Photo\",\"Photo\",\"Photo\",\"Photo\",\"Photo\",\"Photo\",\"Photo\",\"Photo\",\"Photo\",\"Photo\",\"Photo\",\"Photo\",\"Link\",\"Photo\",\"Photo\",\"Photo\",\"Photo\",\"Photo\",\"Photo\",\"Link\",\"Photo\",\"Photo\",\"Photo\",\"Link\",\"Photo\",\"Photo\",\"Photo\",\"Link\",\"Photo\",\"Photo\",\"Photo\",\"Photo\",\"Photo\",\"Photo\",\"Link\",\"Photo\",\"Photo\",\"Photo\",\"Photo\",\"Photo\",\"Photo\",\"Photo\"],\"legendgroup\":\"\",\"name\":\"\",\"showlegend\":true,\"values\":[100,164,80,1777,393,186,279,339,192,142,252,106,104,152,599,108,54,713,75,42,81,0,18,96,121,106,494,117,622,174,162,39,204,125,75,199,113,100,269,59,262,211,36,46,58,71,214,32,92,14,58,337,242,87,83,81,220,53,90,160,123,162,202,245,69,119,55,787,70,119,162,550,273,233,114,505,0,97,64,38,101,441,252,122,117,158,163,311,39,126,421,91,342,129,148,185,65,142,378,430,0,1626,79,17,72,1136,222,238,148,271,34,0,139,97,17,6,458,7,9,8,2,232,4,6,7,9,242,10,5,3,10,10,10,12,34,68,48,39,154,100,202,265,1009,447,53,96,204,94,179,35,367,200,454,193,387,70,163,137,252,98,409,282,410,288,18,132,84,557,1974,121,217,38,228,225,243,189,1174,276,299,194,199,114,271,472,90,72,263,67,117,164,119,818,70,133,490,330,73,60,32,1290,166,45,70,243,132,42,931,162,66,98,107,287,50,15,470,126,28,57,100,271,96,212,86,404,103,121,217,126,456,130,135,114,21,54,120,17,294,139,128,186,624,144,572,409,6334,188,88,115,118,68,85,234,274,300,823,85,160,118,203,202,143,290,79,75,596,55,101,87,195,53,730,269,587,171,71,148,30,271,218,194,49,89,117,39,152,94,18,125,605,67,25,172,24,95,93,66,117,72,94,15,285,89,234,363,155,238,188,184,163,135,25,99,73,82,28,218,75,90,226,235,41,59,83,1439,65,45,97,122,691,180,251,134,60,84,67,180,83,99,313,390,254,114,232,136,63,179,948,72,190,1806,190,203,255,429,118,188,167,309,174,335,99,105,166,210,236,157,355,189,54,200,528,587,56,121,75,316,79,295,165,2177,212,280,87,122,69,183,56,126,40,44,62,881,115,71,138,58,115,97,90,225,122,376,149,420,77,90,124,67,44,168,173,91,104,81,208,249,34,0,39,53,74,39,2,120,38,85,7,230,2,3,6,4,5,237,17,110,143,149,49,86,36,0,771,73,68,63,228,118,67,266,172,125,68,128,282,217,29,178,165,163,1873,95,311,176,313,170,71,238,305,264,131,224,61,182,86,84,633,107,106,127,515,7,226,97,108,14,83,66,378,103,110,152,137,257,176,84,75,115,136,119],\"type\":\"pie\"}],                        {\"template\":{\"data\":{\"histogram2dcontour\":[{\"type\":\"histogram2dcontour\",\"colorbar\":{\"outlinewidth\":0,\"ticks\":\"\"},\"colorscale\":[[0.0,\"#0d0887\"],[0.1111111111111111,\"#46039f\"],[0.2222222222222222,\"#7201a8\"],[0.3333333333333333,\"#9c179e\"],[0.4444444444444444,\"#bd3786\"],[0.5555555555555556,\"#d8576b\"],[0.6666666666666666,\"#ed7953\"],[0.7777777777777778,\"#fb9f3a\"],[0.8888888888888888,\"#fdca26\"],[1.0,\"#f0f921\"]]}],\"choropleth\":[{\"type\":\"choropleth\",\"colorbar\":{\"outlinewidth\":0,\"ticks\":\"\"}}],\"histogram2d\":[{\"type\":\"histogram2d\",\"colorbar\":{\"outlinewidth\":0,\"ticks\":\"\"},\"colorscale\":[[0.0,\"#0d0887\"],[0.1111111111111111,\"#46039f\"],[0.2222222222222222,\"#7201a8\"],[0.3333333333333333,\"#9c179e\"],[0.4444444444444444,\"#bd3786\"],[0.5555555555555556,\"#d8576b\"],[0.6666666666666666,\"#ed7953\"],[0.7777777777777778,\"#fb9f3a\"],[0.8888888888888888,\"#fdca26\"],[1.0,\"#f0f921\"]]}],\"heatmap\":[{\"type\":\"heatmap\",\"colorbar\":{\"outlinewidth\":0,\"ticks\":\"\"},\"colorscale\":[[0.0,\"#0d0887\"],[0.1111111111111111,\"#46039f\"],[0.2222222222222222,\"#7201a8\"],[0.3333333333333333,\"#9c179e\"],[0.4444444444444444,\"#bd3786\"],[0.5555555555555556,\"#d8576b\"],[0.6666666666666666,\"#ed7953\"],[0.7777777777777778,\"#fb9f3a\"],[0.8888888888888888,\"#fdca26\"],[1.0,\"#f0f921\"]]}],\"heatmapgl\":[{\"type\":\"heatmapgl\",\"colorbar\":{\"outlinewidth\":0,\"ticks\":\"\"},\"colorscale\":[[0.0,\"#0d0887\"],[0.1111111111111111,\"#46039f\"],[0.2222222222222222,\"#7201a8\"],[0.3333333333333333,\"#9c179e\"],[0.4444444444444444,\"#bd3786\"],[0.5555555555555556,\"#d8576b\"],[0.6666666666666666,\"#ed7953\"],[0.7777777777777778,\"#fb9f3a\"],[0.8888888888888888,\"#fdca26\"],[1.0,\"#f0f921\"]]}],\"contourcarpet\":[{\"type\":\"contourcarpet\",\"colorbar\":{\"outlinewidth\":0,\"ticks\":\"\"}}],\"contour\":[{\"type\":\"contour\",\"colorbar\":{\"outlinewidth\":0,\"ticks\":\"\"},\"colorscale\":[[0.0,\"#0d0887\"],[0.1111111111111111,\"#46039f\"],[0.2222222222222222,\"#7201a8\"],[0.3333333333333333,\"#9c179e\"],[0.4444444444444444,\"#bd3786\"],[0.5555555555555556,\"#d8576b\"],[0.6666666666666666,\"#ed7953\"],[0.7777777777777778,\"#fb9f3a\"],[0.8888888888888888,\"#fdca26\"],[1.0,\"#f0f921\"]]}],\"surface\":[{\"type\":\"surface\",\"colorbar\":{\"outlinewidth\":0,\"ticks\":\"\"},\"colorscale\":[[0.0,\"#0d0887\"],[0.1111111111111111,\"#46039f\"],[0.2222222222222222,\"#7201a8\"],[0.3333333333333333,\"#9c179e\"],[0.4444444444444444,\"#bd3786\"],[0.5555555555555556,\"#d8576b\"],[0.6666666666666666,\"#ed7953\"],[0.7777777777777778,\"#fb9f3a\"],[0.8888888888888888,\"#fdca26\"],[1.0,\"#f0f921\"]]}],\"mesh3d\":[{\"type\":\"mesh3d\",\"colorbar\":{\"outlinewidth\":0,\"ticks\":\"\"}}],\"scatter\":[{\"fillpattern\":{\"fillmode\":\"overlay\",\"size\":10,\"solidity\":0.2},\"type\":\"scatter\"}],\"parcoords\":[{\"type\":\"parcoords\",\"line\":{\"colorbar\":{\"outlinewidth\":0,\"ticks\":\"\"}}}],\"scatterpolargl\":[{\"type\":\"scatterpolargl\",\"marker\":{\"colorbar\":{\"outlinewidth\":0,\"ticks\":\"\"}}}],\"bar\":[{\"error_x\":{\"color\":\"#2a3f5f\"},\"error_y\":{\"color\":\"#2a3f5f\"},\"marker\":{\"line\":{\"color\":\"#E5ECF6\",\"width\":0.5},\"pattern\":{\"fillmode\":\"overlay\",\"size\":10,\"solidity\":0.2}},\"type\":\"bar\"}],\"scattergeo\":[{\"type\":\"scattergeo\",\"marker\":{\"colorbar\":{\"outlinewidth\":0,\"ticks\":\"\"}}}],\"scatterpolar\":[{\"type\":\"scatterpolar\",\"marker\":{\"colorbar\":{\"outlinewidth\":0,\"ticks\":\"\"}}}],\"histogram\":[{\"marker\":{\"pattern\":{\"fillmode\":\"overlay\",\"size\":10,\"solidity\":0.2}},\"type\":\"histogram\"}],\"scattergl\":[{\"type\":\"scattergl\",\"marker\":{\"colorbar\":{\"outlinewidth\":0,\"ticks\":\"\"}}}],\"scatter3d\":[{\"type\":\"scatter3d\",\"line\":{\"colorbar\":{\"outlinewidth\":0,\"ticks\":\"\"}},\"marker\":{\"colorbar\":{\"outlinewidth\":0,\"ticks\":\"\"}}}],\"scattermapbox\":[{\"type\":\"scattermapbox\",\"marker\":{\"colorbar\":{\"outlinewidth\":0,\"ticks\":\"\"}}}],\"scatterternary\":[{\"type\":\"scatterternary\",\"marker\":{\"colorbar\":{\"outlinewidth\":0,\"ticks\":\"\"}}}],\"scattercarpet\":[{\"type\":\"scattercarpet\",\"marker\":{\"colorbar\":{\"outlinewidth\":0,\"ticks\":\"\"}}}],\"carpet\":[{\"aaxis\":{\"endlinecolor\":\"#2a3f5f\",\"gridcolor\":\"white\",\"linecolor\":\"white\",\"minorgridcolor\":\"white\",\"startlinecolor\":\"#2a3f5f\"},\"baxis\":{\"endlinecolor\":\"#2a3f5f\",\"gridcolor\":\"white\",\"linecolor\":\"white\",\"minorgridcolor\":\"white\",\"startlinecolor\":\"#2a3f5f\"},\"type\":\"carpet\"}],\"table\":[{\"cells\":{\"fill\":{\"color\":\"#EBF0F8\"},\"line\":{\"color\":\"white\"}},\"header\":{\"fill\":{\"color\":\"#C8D4E3\"},\"line\":{\"color\":\"white\"}},\"type\":\"table\"}],\"barpolar\":[{\"marker\":{\"line\":{\"color\":\"#E5ECF6\",\"width\":0.5},\"pattern\":{\"fillmode\":\"overlay\",\"size\":10,\"solidity\":0.2}},\"type\":\"barpolar\"}],\"pie\":[{\"automargin\":true,\"type\":\"pie\"}]},\"layout\":{\"autotypenumbers\":\"strict\",\"colorway\":[\"#636efa\",\"#EF553B\",\"#00cc96\",\"#ab63fa\",\"#FFA15A\",\"#19d3f3\",\"#FF6692\",\"#B6E880\",\"#FF97FF\",\"#FECB52\"],\"font\":{\"color\":\"#2a3f5f\"},\"hovermode\":\"closest\",\"hoverlabel\":{\"align\":\"left\"},\"paper_bgcolor\":\"white\",\"plot_bgcolor\":\"#E5ECF6\",\"polar\":{\"bgcolor\":\"#E5ECF6\",\"angularaxis\":{\"gridcolor\":\"white\",\"linecolor\":\"white\",\"ticks\":\"\"},\"radialaxis\":{\"gridcolor\":\"white\",\"linecolor\":\"white\",\"ticks\":\"\"}},\"ternary\":{\"bgcolor\":\"#E5ECF6\",\"aaxis\":{\"gridcolor\":\"white\",\"linecolor\":\"white\",\"ticks\":\"\"},\"baxis\":{\"gridcolor\":\"white\",\"linecolor\":\"white\",\"ticks\":\"\"},\"caxis\":{\"gridcolor\":\"white\",\"linecolor\":\"white\",\"ticks\":\"\"}},\"coloraxis\":{\"colorbar\":{\"outlinewidth\":0,\"ticks\":\"\"}},\"colorscale\":{\"sequential\":[[0.0,\"#0d0887\"],[0.1111111111111111,\"#46039f\"],[0.2222222222222222,\"#7201a8\"],[0.3333333333333333,\"#9c179e\"],[0.4444444444444444,\"#bd3786\"],[0.5555555555555556,\"#d8576b\"],[0.6666666666666666,\"#ed7953\"],[0.7777777777777778,\"#fb9f3a\"],[0.8888888888888888,\"#fdca26\"],[1.0,\"#f0f921\"]],\"sequentialminus\":[[0.0,\"#0d0887\"],[0.1111111111111111,\"#46039f\"],[0.2222222222222222,\"#7201a8\"],[0.3333333333333333,\"#9c179e\"],[0.4444444444444444,\"#bd3786\"],[0.5555555555555556,\"#d8576b\"],[0.6666666666666666,\"#ed7953\"],[0.7777777777777778,\"#fb9f3a\"],[0.8888888888888888,\"#fdca26\"],[1.0,\"#f0f921\"]],\"diverging\":[[0,\"#8e0152\"],[0.1,\"#c51b7d\"],[0.2,\"#de77ae\"],[0.3,\"#f1b6da\"],[0.4,\"#fde0ef\"],[0.5,\"#f7f7f7\"],[0.6,\"#e6f5d0\"],[0.7,\"#b8e186\"],[0.8,\"#7fbc41\"],[0.9,\"#4d9221\"],[1,\"#276419\"]]},\"xaxis\":{\"gridcolor\":\"white\",\"linecolor\":\"white\",\"ticks\":\"\",\"title\":{\"standoff\":15},\"zerolinecolor\":\"white\",\"automargin\":true,\"zerolinewidth\":2},\"yaxis\":{\"gridcolor\":\"white\",\"linecolor\":\"white\",\"ticks\":\"\",\"title\":{\"standoff\":15},\"zerolinecolor\":\"white\",\"automargin\":true,\"zerolinewidth\":2},\"scene\":{\"xaxis\":{\"backgroundcolor\":\"#E5ECF6\",\"gridcolor\":\"white\",\"linecolor\":\"white\",\"showbackground\":true,\"ticks\":\"\",\"zerolinecolor\":\"white\",\"gridwidth\":2},\"yaxis\":{\"backgroundcolor\":\"#E5ECF6\",\"gridcolor\":\"white\",\"linecolor\":\"white\",\"showbackground\":true,\"ticks\":\"\",\"zerolinecolor\":\"white\",\"gridwidth\":2},\"zaxis\":{\"backgroundcolor\":\"#E5ECF6\",\"gridcolor\":\"white\",\"linecolor\":\"white\",\"showbackground\":true,\"ticks\":\"\",\"zerolinecolor\":\"white\",\"gridwidth\":2}},\"shapedefaults\":{\"line\":{\"color\":\"#2a3f5f\"}},\"annotationdefaults\":{\"arrowcolor\":\"#2a3f5f\",\"arrowhead\":0,\"arrowwidth\":1},\"geo\":{\"bgcolor\":\"white\",\"landcolor\":\"#E5ECF6\",\"subunitcolor\":\"white\",\"showland\":true,\"showlakes\":true,\"lakecolor\":\"white\"},\"title\":{\"x\":0.05},\"mapbox\":{\"style\":\"light\"}}},\"legend\":{\"tracegroupgap\":0},\"title\":{\"text\":\"Total Interactions by Type of the Facebook Post\"}},                        {\"responsive\": true}                    ).then(function(){\n",
       "                            \n",
       "var gd = document.getElementById('15bc69eb-01af-451b-bb9f-40751e6cfe0e');\n",
       "var x = new MutationObserver(function (mutations, observer) {{\n",
       "        var display = window.getComputedStyle(gd).display;\n",
       "        if (!display || display === 'none') {{\n",
       "            console.log([gd, 'removed!']);\n",
       "            Plotly.purge(gd);\n",
       "            observer.disconnect();\n",
       "        }}\n",
       "}});\n",
       "\n",
       "// Listen for the removal of the full notebook cells\n",
       "var notebookContainer = gd.closest('#notebook-container');\n",
       "if (notebookContainer) {{\n",
       "    x.observe(notebookContainer, {childList: true});\n",
       "}}\n",
       "\n",
       "// Listen for the clearing of the current output cell\n",
       "var outputEl = gd.closest('.output');\n",
       "if (outputEl) {{\n",
       "    x.observe(outputEl, {childList: true});\n",
       "}}\n",
       "\n",
       "                        })                };                });            </script>        </div>"
      ]
     },
     "metadata": {},
     "output_type": "display_data"
    }
   ],
   "source": [
    "# total interactions by type of the facebook post\n",
    "fig = px.pie(df, values='Total Interactions', names='Type', title='Total Interactions by Type of the Facebook Post')\n",
    "fig.show()"
   ]
  },
  {
   "cell_type": "markdown",
   "id": "a35f6edb",
   "metadata": {
    "papermill": {
     "duration": 0.011324,
     "end_time": "2024-08-16T13:20:18.390948",
     "exception": false,
     "start_time": "2024-08-16T13:20:18.379624",
     "status": "completed"
    },
    "tags": []
   },
   "source": [
    "As you can see in the chart, people mostly like photo posts on Facebook. Right now, we will review to which kind of post has more <code>Paid</code> then the other one.\n",
    "\n",
    "Right now, we will create some visualizations to see which kind of post has what rate of <code>Paid - Unpaid</code>. Let's start with photo posts and continue with other ones."
   ]
  },
  {
   "cell_type": "code",
   "execution_count": 6,
   "id": "4843a1c4",
   "metadata": {
    "execution": {
     "iopub.execute_input": "2024-08-16T13:20:18.409570Z",
     "iopub.status.busy": "2024-08-16T13:20:18.409142Z",
     "iopub.status.idle": "2024-08-16T13:20:18.476993Z",
     "shell.execute_reply": "2024-08-16T13:20:18.475858Z"
    },
    "papermill": {
     "duration": 0.080377,
     "end_time": "2024-08-16T13:20:18.479710",
     "exception": false,
     "start_time": "2024-08-16T13:20:18.399333",
     "status": "completed"
    },
    "tags": []
   },
   "outputs": [
    {
     "data": {
      "text/html": [
       "<div>                            <div id=\"91281a71-aaa4-4912-8ae9-a60bf0ee29f5\" class=\"plotly-graph-div\" style=\"height:525px; width:100%;\"></div>            <script type=\"text/javascript\">                require([\"plotly\"], function(Plotly) {                    window.PLOTLYENV=window.PLOTLYENV || {};                                    if (document.getElementById(\"91281a71-aaa4-4912-8ae9-a60bf0ee29f5\")) {                    Plotly.newPlot(                        \"91281a71-aaa4-4912-8ae9-a60bf0ee29f5\",                        [{\"domain\":{\"x\":[0.0,1.0],\"y\":[0.0,1.0]},\"hovertemplate\":\"Paid=%{label}\\u003cbr\\u003eCount=%{value}\\u003cextra\\u003e\\u003c\\u002fextra\\u003e\",\"labels\":[0.0,1.0],\"legendgroup\":\"\",\"name\":\"\",\"showlegend\":true,\"values\":[306,119],\"type\":\"pie\"}],                        {\"template\":{\"data\":{\"histogram2dcontour\":[{\"type\":\"histogram2dcontour\",\"colorbar\":{\"outlinewidth\":0,\"ticks\":\"\"},\"colorscale\":[[0.0,\"#0d0887\"],[0.1111111111111111,\"#46039f\"],[0.2222222222222222,\"#7201a8\"],[0.3333333333333333,\"#9c179e\"],[0.4444444444444444,\"#bd3786\"],[0.5555555555555556,\"#d8576b\"],[0.6666666666666666,\"#ed7953\"],[0.7777777777777778,\"#fb9f3a\"],[0.8888888888888888,\"#fdca26\"],[1.0,\"#f0f921\"]]}],\"choropleth\":[{\"type\":\"choropleth\",\"colorbar\":{\"outlinewidth\":0,\"ticks\":\"\"}}],\"histogram2d\":[{\"type\":\"histogram2d\",\"colorbar\":{\"outlinewidth\":0,\"ticks\":\"\"},\"colorscale\":[[0.0,\"#0d0887\"],[0.1111111111111111,\"#46039f\"],[0.2222222222222222,\"#7201a8\"],[0.3333333333333333,\"#9c179e\"],[0.4444444444444444,\"#bd3786\"],[0.5555555555555556,\"#d8576b\"],[0.6666666666666666,\"#ed7953\"],[0.7777777777777778,\"#fb9f3a\"],[0.8888888888888888,\"#fdca26\"],[1.0,\"#f0f921\"]]}],\"heatmap\":[{\"type\":\"heatmap\",\"colorbar\":{\"outlinewidth\":0,\"ticks\":\"\"},\"colorscale\":[[0.0,\"#0d0887\"],[0.1111111111111111,\"#46039f\"],[0.2222222222222222,\"#7201a8\"],[0.3333333333333333,\"#9c179e\"],[0.4444444444444444,\"#bd3786\"],[0.5555555555555556,\"#d8576b\"],[0.6666666666666666,\"#ed7953\"],[0.7777777777777778,\"#fb9f3a\"],[0.8888888888888888,\"#fdca26\"],[1.0,\"#f0f921\"]]}],\"heatmapgl\":[{\"type\":\"heatmapgl\",\"colorbar\":{\"outlinewidth\":0,\"ticks\":\"\"},\"colorscale\":[[0.0,\"#0d0887\"],[0.1111111111111111,\"#46039f\"],[0.2222222222222222,\"#7201a8\"],[0.3333333333333333,\"#9c179e\"],[0.4444444444444444,\"#bd3786\"],[0.5555555555555556,\"#d8576b\"],[0.6666666666666666,\"#ed7953\"],[0.7777777777777778,\"#fb9f3a\"],[0.8888888888888888,\"#fdca26\"],[1.0,\"#f0f921\"]]}],\"contourcarpet\":[{\"type\":\"contourcarpet\",\"colorbar\":{\"outlinewidth\":0,\"ticks\":\"\"}}],\"contour\":[{\"type\":\"contour\",\"colorbar\":{\"outlinewidth\":0,\"ticks\":\"\"},\"colorscale\":[[0.0,\"#0d0887\"],[0.1111111111111111,\"#46039f\"],[0.2222222222222222,\"#7201a8\"],[0.3333333333333333,\"#9c179e\"],[0.4444444444444444,\"#bd3786\"],[0.5555555555555556,\"#d8576b\"],[0.6666666666666666,\"#ed7953\"],[0.7777777777777778,\"#fb9f3a\"],[0.8888888888888888,\"#fdca26\"],[1.0,\"#f0f921\"]]}],\"surface\":[{\"type\":\"surface\",\"colorbar\":{\"outlinewidth\":0,\"ticks\":\"\"},\"colorscale\":[[0.0,\"#0d0887\"],[0.1111111111111111,\"#46039f\"],[0.2222222222222222,\"#7201a8\"],[0.3333333333333333,\"#9c179e\"],[0.4444444444444444,\"#bd3786\"],[0.5555555555555556,\"#d8576b\"],[0.6666666666666666,\"#ed7953\"],[0.7777777777777778,\"#fb9f3a\"],[0.8888888888888888,\"#fdca26\"],[1.0,\"#f0f921\"]]}],\"mesh3d\":[{\"type\":\"mesh3d\",\"colorbar\":{\"outlinewidth\":0,\"ticks\":\"\"}}],\"scatter\":[{\"fillpattern\":{\"fillmode\":\"overlay\",\"size\":10,\"solidity\":0.2},\"type\":\"scatter\"}],\"parcoords\":[{\"type\":\"parcoords\",\"line\":{\"colorbar\":{\"outlinewidth\":0,\"ticks\":\"\"}}}],\"scatterpolargl\":[{\"type\":\"scatterpolargl\",\"marker\":{\"colorbar\":{\"outlinewidth\":0,\"ticks\":\"\"}}}],\"bar\":[{\"error_x\":{\"color\":\"#2a3f5f\"},\"error_y\":{\"color\":\"#2a3f5f\"},\"marker\":{\"line\":{\"color\":\"#E5ECF6\",\"width\":0.5},\"pattern\":{\"fillmode\":\"overlay\",\"size\":10,\"solidity\":0.2}},\"type\":\"bar\"}],\"scattergeo\":[{\"type\":\"scattergeo\",\"marker\":{\"colorbar\":{\"outlinewidth\":0,\"ticks\":\"\"}}}],\"scatterpolar\":[{\"type\":\"scatterpolar\",\"marker\":{\"colorbar\":{\"outlinewidth\":0,\"ticks\":\"\"}}}],\"histogram\":[{\"marker\":{\"pattern\":{\"fillmode\":\"overlay\",\"size\":10,\"solidity\":0.2}},\"type\":\"histogram\"}],\"scattergl\":[{\"type\":\"scattergl\",\"marker\":{\"colorbar\":{\"outlinewidth\":0,\"ticks\":\"\"}}}],\"scatter3d\":[{\"type\":\"scatter3d\",\"line\":{\"colorbar\":{\"outlinewidth\":0,\"ticks\":\"\"}},\"marker\":{\"colorbar\":{\"outlinewidth\":0,\"ticks\":\"\"}}}],\"scattermapbox\":[{\"type\":\"scattermapbox\",\"marker\":{\"colorbar\":{\"outlinewidth\":0,\"ticks\":\"\"}}}],\"scatterternary\":[{\"type\":\"scatterternary\",\"marker\":{\"colorbar\":{\"outlinewidth\":0,\"ticks\":\"\"}}}],\"scattercarpet\":[{\"type\":\"scattercarpet\",\"marker\":{\"colorbar\":{\"outlinewidth\":0,\"ticks\":\"\"}}}],\"carpet\":[{\"aaxis\":{\"endlinecolor\":\"#2a3f5f\",\"gridcolor\":\"white\",\"linecolor\":\"white\",\"minorgridcolor\":\"white\",\"startlinecolor\":\"#2a3f5f\"},\"baxis\":{\"endlinecolor\":\"#2a3f5f\",\"gridcolor\":\"white\",\"linecolor\":\"white\",\"minorgridcolor\":\"white\",\"startlinecolor\":\"#2a3f5f\"},\"type\":\"carpet\"}],\"table\":[{\"cells\":{\"fill\":{\"color\":\"#EBF0F8\"},\"line\":{\"color\":\"white\"}},\"header\":{\"fill\":{\"color\":\"#C8D4E3\"},\"line\":{\"color\":\"white\"}},\"type\":\"table\"}],\"barpolar\":[{\"marker\":{\"line\":{\"color\":\"#E5ECF6\",\"width\":0.5},\"pattern\":{\"fillmode\":\"overlay\",\"size\":10,\"solidity\":0.2}},\"type\":\"barpolar\"}],\"pie\":[{\"automargin\":true,\"type\":\"pie\"}]},\"layout\":{\"autotypenumbers\":\"strict\",\"colorway\":[\"#636efa\",\"#EF553B\",\"#00cc96\",\"#ab63fa\",\"#FFA15A\",\"#19d3f3\",\"#FF6692\",\"#B6E880\",\"#FF97FF\",\"#FECB52\"],\"font\":{\"color\":\"#2a3f5f\"},\"hovermode\":\"closest\",\"hoverlabel\":{\"align\":\"left\"},\"paper_bgcolor\":\"white\",\"plot_bgcolor\":\"#E5ECF6\",\"polar\":{\"bgcolor\":\"#E5ECF6\",\"angularaxis\":{\"gridcolor\":\"white\",\"linecolor\":\"white\",\"ticks\":\"\"},\"radialaxis\":{\"gridcolor\":\"white\",\"linecolor\":\"white\",\"ticks\":\"\"}},\"ternary\":{\"bgcolor\":\"#E5ECF6\",\"aaxis\":{\"gridcolor\":\"white\",\"linecolor\":\"white\",\"ticks\":\"\"},\"baxis\":{\"gridcolor\":\"white\",\"linecolor\":\"white\",\"ticks\":\"\"},\"caxis\":{\"gridcolor\":\"white\",\"linecolor\":\"white\",\"ticks\":\"\"}},\"coloraxis\":{\"colorbar\":{\"outlinewidth\":0,\"ticks\":\"\"}},\"colorscale\":{\"sequential\":[[0.0,\"#0d0887\"],[0.1111111111111111,\"#46039f\"],[0.2222222222222222,\"#7201a8\"],[0.3333333333333333,\"#9c179e\"],[0.4444444444444444,\"#bd3786\"],[0.5555555555555556,\"#d8576b\"],[0.6666666666666666,\"#ed7953\"],[0.7777777777777778,\"#fb9f3a\"],[0.8888888888888888,\"#fdca26\"],[1.0,\"#f0f921\"]],\"sequentialminus\":[[0.0,\"#0d0887\"],[0.1111111111111111,\"#46039f\"],[0.2222222222222222,\"#7201a8\"],[0.3333333333333333,\"#9c179e\"],[0.4444444444444444,\"#bd3786\"],[0.5555555555555556,\"#d8576b\"],[0.6666666666666666,\"#ed7953\"],[0.7777777777777778,\"#fb9f3a\"],[0.8888888888888888,\"#fdca26\"],[1.0,\"#f0f921\"]],\"diverging\":[[0,\"#8e0152\"],[0.1,\"#c51b7d\"],[0.2,\"#de77ae\"],[0.3,\"#f1b6da\"],[0.4,\"#fde0ef\"],[0.5,\"#f7f7f7\"],[0.6,\"#e6f5d0\"],[0.7,\"#b8e186\"],[0.8,\"#7fbc41\"],[0.9,\"#4d9221\"],[1,\"#276419\"]]},\"xaxis\":{\"gridcolor\":\"white\",\"linecolor\":\"white\",\"ticks\":\"\",\"title\":{\"standoff\":15},\"zerolinecolor\":\"white\",\"automargin\":true,\"zerolinewidth\":2},\"yaxis\":{\"gridcolor\":\"white\",\"linecolor\":\"white\",\"ticks\":\"\",\"title\":{\"standoff\":15},\"zerolinecolor\":\"white\",\"automargin\":true,\"zerolinewidth\":2},\"scene\":{\"xaxis\":{\"backgroundcolor\":\"#E5ECF6\",\"gridcolor\":\"white\",\"linecolor\":\"white\",\"showbackground\":true,\"ticks\":\"\",\"zerolinecolor\":\"white\",\"gridwidth\":2},\"yaxis\":{\"backgroundcolor\":\"#E5ECF6\",\"gridcolor\":\"white\",\"linecolor\":\"white\",\"showbackground\":true,\"ticks\":\"\",\"zerolinecolor\":\"white\",\"gridwidth\":2},\"zaxis\":{\"backgroundcolor\":\"#E5ECF6\",\"gridcolor\":\"white\",\"linecolor\":\"white\",\"showbackground\":true,\"ticks\":\"\",\"zerolinecolor\":\"white\",\"gridwidth\":2}},\"shapedefaults\":{\"line\":{\"color\":\"#2a3f5f\"}},\"annotationdefaults\":{\"arrowcolor\":\"#2a3f5f\",\"arrowhead\":0,\"arrowwidth\":1},\"geo\":{\"bgcolor\":\"white\",\"landcolor\":\"#E5ECF6\",\"subunitcolor\":\"white\",\"showland\":true,\"showlakes\":true,\"lakecolor\":\"white\"},\"title\":{\"x\":0.05},\"mapbox\":{\"style\":\"light\"}}},\"legend\":{\"tracegroupgap\":0},\"title\":{\"text\":\"Paid-Unpaid Pie Chart for Photo Posts\"}},                        {\"responsive\": true}                    ).then(function(){\n",
       "                            \n",
       "var gd = document.getElementById('91281a71-aaa4-4912-8ae9-a60bf0ee29f5');\n",
       "var x = new MutationObserver(function (mutations, observer) {{\n",
       "        var display = window.getComputedStyle(gd).display;\n",
       "        if (!display || display === 'none') {{\n",
       "            console.log([gd, 'removed!']);\n",
       "            Plotly.purge(gd);\n",
       "            observer.disconnect();\n",
       "        }}\n",
       "}});\n",
       "\n",
       "// Listen for the removal of the full notebook cells\n",
       "var notebookContainer = gd.closest('#notebook-container');\n",
       "if (notebookContainer) {{\n",
       "    x.observe(notebookContainer, {childList: true});\n",
       "}}\n",
       "\n",
       "// Listen for the clearing of the current output cell\n",
       "var outputEl = gd.closest('.output');\n",
       "if (outputEl) {{\n",
       "    x.observe(outputEl, {childList: true});\n",
       "}}\n",
       "\n",
       "                        })                };                });            </script>        </div>"
      ]
     },
     "metadata": {},
     "output_type": "display_data"
    }
   ],
   "source": [
    "# paid-unpaid pie chart for photo posts\n",
    "df_photo_posts_count = df[df['Type']=='Photo']['Paid'].value_counts()\n",
    "df_photo_posts_count = pd.DataFrame({'Paid': df_photo_posts_count.index, 'Count': df_photo_posts_count.values})\n",
    "\n",
    "total_number_of_photos = df_photo_posts_count['Count'].sum()\n",
    "\n",
    "fig = px.pie(df_photo_posts_count, values='Count', names='Paid', title='Paid-Unpaid Pie Chart for Photo Posts')\n",
    "fig.show()"
   ]
  },
  {
   "cell_type": "code",
   "execution_count": 7,
   "id": "e0eb9035",
   "metadata": {
    "execution": {
     "iopub.execute_input": "2024-08-16T13:20:18.508526Z",
     "iopub.status.busy": "2024-08-16T13:20:18.508136Z",
     "iopub.status.idle": "2024-08-16T13:20:18.565626Z",
     "shell.execute_reply": "2024-08-16T13:20:18.564578Z"
    },
    "papermill": {
     "duration": 0.073851,
     "end_time": "2024-08-16T13:20:18.567918",
     "exception": false,
     "start_time": "2024-08-16T13:20:18.494067",
     "status": "completed"
    },
    "tags": []
   },
   "outputs": [
    {
     "data": {
      "text/html": [
       "<div>                            <div id=\"f83da701-a944-4a1e-8f00-6d82306033cb\" class=\"plotly-graph-div\" style=\"height:525px; width:100%;\"></div>            <script type=\"text/javascript\">                require([\"plotly\"], function(Plotly) {                    window.PLOTLYENV=window.PLOTLYENV || {};                                    if (document.getElementById(\"f83da701-a944-4a1e-8f00-6d82306033cb\")) {                    Plotly.newPlot(                        \"f83da701-a944-4a1e-8f00-6d82306033cb\",                        [{\"domain\":{\"x\":[0.0,1.0],\"y\":[0.0,1.0]},\"hovertemplate\":\"Paid=%{label}\\u003cbr\\u003eCount=%{value}\\u003cextra\\u003e\\u003c\\u002fextra\\u003e\",\"labels\":[0.0,1.0],\"legendgroup\":\"\",\"name\":\"\",\"showlegend\":true,\"values\":[35,10],\"type\":\"pie\"}],                        {\"template\":{\"data\":{\"histogram2dcontour\":[{\"type\":\"histogram2dcontour\",\"colorbar\":{\"outlinewidth\":0,\"ticks\":\"\"},\"colorscale\":[[0.0,\"#0d0887\"],[0.1111111111111111,\"#46039f\"],[0.2222222222222222,\"#7201a8\"],[0.3333333333333333,\"#9c179e\"],[0.4444444444444444,\"#bd3786\"],[0.5555555555555556,\"#d8576b\"],[0.6666666666666666,\"#ed7953\"],[0.7777777777777778,\"#fb9f3a\"],[0.8888888888888888,\"#fdca26\"],[1.0,\"#f0f921\"]]}],\"choropleth\":[{\"type\":\"choropleth\",\"colorbar\":{\"outlinewidth\":0,\"ticks\":\"\"}}],\"histogram2d\":[{\"type\":\"histogram2d\",\"colorbar\":{\"outlinewidth\":0,\"ticks\":\"\"},\"colorscale\":[[0.0,\"#0d0887\"],[0.1111111111111111,\"#46039f\"],[0.2222222222222222,\"#7201a8\"],[0.3333333333333333,\"#9c179e\"],[0.4444444444444444,\"#bd3786\"],[0.5555555555555556,\"#d8576b\"],[0.6666666666666666,\"#ed7953\"],[0.7777777777777778,\"#fb9f3a\"],[0.8888888888888888,\"#fdca26\"],[1.0,\"#f0f921\"]]}],\"heatmap\":[{\"type\":\"heatmap\",\"colorbar\":{\"outlinewidth\":0,\"ticks\":\"\"},\"colorscale\":[[0.0,\"#0d0887\"],[0.1111111111111111,\"#46039f\"],[0.2222222222222222,\"#7201a8\"],[0.3333333333333333,\"#9c179e\"],[0.4444444444444444,\"#bd3786\"],[0.5555555555555556,\"#d8576b\"],[0.6666666666666666,\"#ed7953\"],[0.7777777777777778,\"#fb9f3a\"],[0.8888888888888888,\"#fdca26\"],[1.0,\"#f0f921\"]]}],\"heatmapgl\":[{\"type\":\"heatmapgl\",\"colorbar\":{\"outlinewidth\":0,\"ticks\":\"\"},\"colorscale\":[[0.0,\"#0d0887\"],[0.1111111111111111,\"#46039f\"],[0.2222222222222222,\"#7201a8\"],[0.3333333333333333,\"#9c179e\"],[0.4444444444444444,\"#bd3786\"],[0.5555555555555556,\"#d8576b\"],[0.6666666666666666,\"#ed7953\"],[0.7777777777777778,\"#fb9f3a\"],[0.8888888888888888,\"#fdca26\"],[1.0,\"#f0f921\"]]}],\"contourcarpet\":[{\"type\":\"contourcarpet\",\"colorbar\":{\"outlinewidth\":0,\"ticks\":\"\"}}],\"contour\":[{\"type\":\"contour\",\"colorbar\":{\"outlinewidth\":0,\"ticks\":\"\"},\"colorscale\":[[0.0,\"#0d0887\"],[0.1111111111111111,\"#46039f\"],[0.2222222222222222,\"#7201a8\"],[0.3333333333333333,\"#9c179e\"],[0.4444444444444444,\"#bd3786\"],[0.5555555555555556,\"#d8576b\"],[0.6666666666666666,\"#ed7953\"],[0.7777777777777778,\"#fb9f3a\"],[0.8888888888888888,\"#fdca26\"],[1.0,\"#f0f921\"]]}],\"surface\":[{\"type\":\"surface\",\"colorbar\":{\"outlinewidth\":0,\"ticks\":\"\"},\"colorscale\":[[0.0,\"#0d0887\"],[0.1111111111111111,\"#46039f\"],[0.2222222222222222,\"#7201a8\"],[0.3333333333333333,\"#9c179e\"],[0.4444444444444444,\"#bd3786\"],[0.5555555555555556,\"#d8576b\"],[0.6666666666666666,\"#ed7953\"],[0.7777777777777778,\"#fb9f3a\"],[0.8888888888888888,\"#fdca26\"],[1.0,\"#f0f921\"]]}],\"mesh3d\":[{\"type\":\"mesh3d\",\"colorbar\":{\"outlinewidth\":0,\"ticks\":\"\"}}],\"scatter\":[{\"fillpattern\":{\"fillmode\":\"overlay\",\"size\":10,\"solidity\":0.2},\"type\":\"scatter\"}],\"parcoords\":[{\"type\":\"parcoords\",\"line\":{\"colorbar\":{\"outlinewidth\":0,\"ticks\":\"\"}}}],\"scatterpolargl\":[{\"type\":\"scatterpolargl\",\"marker\":{\"colorbar\":{\"outlinewidth\":0,\"ticks\":\"\"}}}],\"bar\":[{\"error_x\":{\"color\":\"#2a3f5f\"},\"error_y\":{\"color\":\"#2a3f5f\"},\"marker\":{\"line\":{\"color\":\"#E5ECF6\",\"width\":0.5},\"pattern\":{\"fillmode\":\"overlay\",\"size\":10,\"solidity\":0.2}},\"type\":\"bar\"}],\"scattergeo\":[{\"type\":\"scattergeo\",\"marker\":{\"colorbar\":{\"outlinewidth\":0,\"ticks\":\"\"}}}],\"scatterpolar\":[{\"type\":\"scatterpolar\",\"marker\":{\"colorbar\":{\"outlinewidth\":0,\"ticks\":\"\"}}}],\"histogram\":[{\"marker\":{\"pattern\":{\"fillmode\":\"overlay\",\"size\":10,\"solidity\":0.2}},\"type\":\"histogram\"}],\"scattergl\":[{\"type\":\"scattergl\",\"marker\":{\"colorbar\":{\"outlinewidth\":0,\"ticks\":\"\"}}}],\"scatter3d\":[{\"type\":\"scatter3d\",\"line\":{\"colorbar\":{\"outlinewidth\":0,\"ticks\":\"\"}},\"marker\":{\"colorbar\":{\"outlinewidth\":0,\"ticks\":\"\"}}}],\"scattermapbox\":[{\"type\":\"scattermapbox\",\"marker\":{\"colorbar\":{\"outlinewidth\":0,\"ticks\":\"\"}}}],\"scatterternary\":[{\"type\":\"scatterternary\",\"marker\":{\"colorbar\":{\"outlinewidth\":0,\"ticks\":\"\"}}}],\"scattercarpet\":[{\"type\":\"scattercarpet\",\"marker\":{\"colorbar\":{\"outlinewidth\":0,\"ticks\":\"\"}}}],\"carpet\":[{\"aaxis\":{\"endlinecolor\":\"#2a3f5f\",\"gridcolor\":\"white\",\"linecolor\":\"white\",\"minorgridcolor\":\"white\",\"startlinecolor\":\"#2a3f5f\"},\"baxis\":{\"endlinecolor\":\"#2a3f5f\",\"gridcolor\":\"white\",\"linecolor\":\"white\",\"minorgridcolor\":\"white\",\"startlinecolor\":\"#2a3f5f\"},\"type\":\"carpet\"}],\"table\":[{\"cells\":{\"fill\":{\"color\":\"#EBF0F8\"},\"line\":{\"color\":\"white\"}},\"header\":{\"fill\":{\"color\":\"#C8D4E3\"},\"line\":{\"color\":\"white\"}},\"type\":\"table\"}],\"barpolar\":[{\"marker\":{\"line\":{\"color\":\"#E5ECF6\",\"width\":0.5},\"pattern\":{\"fillmode\":\"overlay\",\"size\":10,\"solidity\":0.2}},\"type\":\"barpolar\"}],\"pie\":[{\"automargin\":true,\"type\":\"pie\"}]},\"layout\":{\"autotypenumbers\":\"strict\",\"colorway\":[\"#636efa\",\"#EF553B\",\"#00cc96\",\"#ab63fa\",\"#FFA15A\",\"#19d3f3\",\"#FF6692\",\"#B6E880\",\"#FF97FF\",\"#FECB52\"],\"font\":{\"color\":\"#2a3f5f\"},\"hovermode\":\"closest\",\"hoverlabel\":{\"align\":\"left\"},\"paper_bgcolor\":\"white\",\"plot_bgcolor\":\"#E5ECF6\",\"polar\":{\"bgcolor\":\"#E5ECF6\",\"angularaxis\":{\"gridcolor\":\"white\",\"linecolor\":\"white\",\"ticks\":\"\"},\"radialaxis\":{\"gridcolor\":\"white\",\"linecolor\":\"white\",\"ticks\":\"\"}},\"ternary\":{\"bgcolor\":\"#E5ECF6\",\"aaxis\":{\"gridcolor\":\"white\",\"linecolor\":\"white\",\"ticks\":\"\"},\"baxis\":{\"gridcolor\":\"white\",\"linecolor\":\"white\",\"ticks\":\"\"},\"caxis\":{\"gridcolor\":\"white\",\"linecolor\":\"white\",\"ticks\":\"\"}},\"coloraxis\":{\"colorbar\":{\"outlinewidth\":0,\"ticks\":\"\"}},\"colorscale\":{\"sequential\":[[0.0,\"#0d0887\"],[0.1111111111111111,\"#46039f\"],[0.2222222222222222,\"#7201a8\"],[0.3333333333333333,\"#9c179e\"],[0.4444444444444444,\"#bd3786\"],[0.5555555555555556,\"#d8576b\"],[0.6666666666666666,\"#ed7953\"],[0.7777777777777778,\"#fb9f3a\"],[0.8888888888888888,\"#fdca26\"],[1.0,\"#f0f921\"]],\"sequentialminus\":[[0.0,\"#0d0887\"],[0.1111111111111111,\"#46039f\"],[0.2222222222222222,\"#7201a8\"],[0.3333333333333333,\"#9c179e\"],[0.4444444444444444,\"#bd3786\"],[0.5555555555555556,\"#d8576b\"],[0.6666666666666666,\"#ed7953\"],[0.7777777777777778,\"#fb9f3a\"],[0.8888888888888888,\"#fdca26\"],[1.0,\"#f0f921\"]],\"diverging\":[[0,\"#8e0152\"],[0.1,\"#c51b7d\"],[0.2,\"#de77ae\"],[0.3,\"#f1b6da\"],[0.4,\"#fde0ef\"],[0.5,\"#f7f7f7\"],[0.6,\"#e6f5d0\"],[0.7,\"#b8e186\"],[0.8,\"#7fbc41\"],[0.9,\"#4d9221\"],[1,\"#276419\"]]},\"xaxis\":{\"gridcolor\":\"white\",\"linecolor\":\"white\",\"ticks\":\"\",\"title\":{\"standoff\":15},\"zerolinecolor\":\"white\",\"automargin\":true,\"zerolinewidth\":2},\"yaxis\":{\"gridcolor\":\"white\",\"linecolor\":\"white\",\"ticks\":\"\",\"title\":{\"standoff\":15},\"zerolinecolor\":\"white\",\"automargin\":true,\"zerolinewidth\":2},\"scene\":{\"xaxis\":{\"backgroundcolor\":\"#E5ECF6\",\"gridcolor\":\"white\",\"linecolor\":\"white\",\"showbackground\":true,\"ticks\":\"\",\"zerolinecolor\":\"white\",\"gridwidth\":2},\"yaxis\":{\"backgroundcolor\":\"#E5ECF6\",\"gridcolor\":\"white\",\"linecolor\":\"white\",\"showbackground\":true,\"ticks\":\"\",\"zerolinecolor\":\"white\",\"gridwidth\":2},\"zaxis\":{\"backgroundcolor\":\"#E5ECF6\",\"gridcolor\":\"white\",\"linecolor\":\"white\",\"showbackground\":true,\"ticks\":\"\",\"zerolinecolor\":\"white\",\"gridwidth\":2}},\"shapedefaults\":{\"line\":{\"color\":\"#2a3f5f\"}},\"annotationdefaults\":{\"arrowcolor\":\"#2a3f5f\",\"arrowhead\":0,\"arrowwidth\":1},\"geo\":{\"bgcolor\":\"white\",\"landcolor\":\"#E5ECF6\",\"subunitcolor\":\"white\",\"showland\":true,\"showlakes\":true,\"lakecolor\":\"white\"},\"title\":{\"x\":0.05},\"mapbox\":{\"style\":\"light\"}}},\"legend\":{\"tracegroupgap\":0},\"title\":{\"text\":\"Paid-Unpaid Pie Chart for Status Posts\"}},                        {\"responsive\": true}                    ).then(function(){\n",
       "                            \n",
       "var gd = document.getElementById('f83da701-a944-4a1e-8f00-6d82306033cb');\n",
       "var x = new MutationObserver(function (mutations, observer) {{\n",
       "        var display = window.getComputedStyle(gd).display;\n",
       "        if (!display || display === 'none') {{\n",
       "            console.log([gd, 'removed!']);\n",
       "            Plotly.purge(gd);\n",
       "            observer.disconnect();\n",
       "        }}\n",
       "}});\n",
       "\n",
       "// Listen for the removal of the full notebook cells\n",
       "var notebookContainer = gd.closest('#notebook-container');\n",
       "if (notebookContainer) {{\n",
       "    x.observe(notebookContainer, {childList: true});\n",
       "}}\n",
       "\n",
       "// Listen for the clearing of the current output cell\n",
       "var outputEl = gd.closest('.output');\n",
       "if (outputEl) {{\n",
       "    x.observe(outputEl, {childList: true});\n",
       "}}\n",
       "\n",
       "                        })                };                });            </script>        </div>"
      ]
     },
     "metadata": {},
     "output_type": "display_data"
    }
   ],
   "source": [
    "# paid-unpaid pie chart for status posts\n",
    "df_status_posts_count = df[df['Type']=='Status']['Paid'].value_counts()\n",
    "df_status_posts_count = pd.DataFrame({'Paid': df_status_posts_count.index, 'Count': df_status_posts_count.values})\n",
    "\n",
    "total_number_of_status = df_status_posts_count['Count'].sum()\n",
    "\n",
    "fig = px.pie(df_status_posts_count, values='Count', names='Paid', title='Paid-Unpaid Pie Chart for Status Posts')\n",
    "fig.show()"
   ]
  },
  {
   "cell_type": "code",
   "execution_count": 8,
   "id": "788c3418",
   "metadata": {
    "execution": {
     "iopub.execute_input": "2024-08-16T13:20:18.587234Z",
     "iopub.status.busy": "2024-08-16T13:20:18.586476Z",
     "iopub.status.idle": "2024-08-16T13:20:18.643426Z",
     "shell.execute_reply": "2024-08-16T13:20:18.642067Z"
    },
    "papermill": {
     "duration": 0.070104,
     "end_time": "2024-08-16T13:20:18.646576",
     "exception": false,
     "start_time": "2024-08-16T13:20:18.576472",
     "status": "completed"
    },
    "tags": []
   },
   "outputs": [
    {
     "data": {
      "text/html": [
       "<div>                            <div id=\"5aa7fc75-5ae1-4ca0-905b-40f1d80d532f\" class=\"plotly-graph-div\" style=\"height:525px; width:100%;\"></div>            <script type=\"text/javascript\">                require([\"plotly\"], function(Plotly) {                    window.PLOTLYENV=window.PLOTLYENV || {};                                    if (document.getElementById(\"5aa7fc75-5ae1-4ca0-905b-40f1d80d532f\")) {                    Plotly.newPlot(                        \"5aa7fc75-5ae1-4ca0-905b-40f1d80d532f\",                        [{\"domain\":{\"x\":[0.0,1.0],\"y\":[0.0,1.0]},\"hovertemplate\":\"Paid=%{label}\\u003cbr\\u003eCount=%{value}\\u003cextra\\u003e\\u003c\\u002fextra\\u003e\",\"labels\":[0.0,1.0],\"legendgroup\":\"\",\"name\":\"\",\"showlegend\":true,\"values\":[16,6],\"type\":\"pie\"}],                        {\"template\":{\"data\":{\"histogram2dcontour\":[{\"type\":\"histogram2dcontour\",\"colorbar\":{\"outlinewidth\":0,\"ticks\":\"\"},\"colorscale\":[[0.0,\"#0d0887\"],[0.1111111111111111,\"#46039f\"],[0.2222222222222222,\"#7201a8\"],[0.3333333333333333,\"#9c179e\"],[0.4444444444444444,\"#bd3786\"],[0.5555555555555556,\"#d8576b\"],[0.6666666666666666,\"#ed7953\"],[0.7777777777777778,\"#fb9f3a\"],[0.8888888888888888,\"#fdca26\"],[1.0,\"#f0f921\"]]}],\"choropleth\":[{\"type\":\"choropleth\",\"colorbar\":{\"outlinewidth\":0,\"ticks\":\"\"}}],\"histogram2d\":[{\"type\":\"histogram2d\",\"colorbar\":{\"outlinewidth\":0,\"ticks\":\"\"},\"colorscale\":[[0.0,\"#0d0887\"],[0.1111111111111111,\"#46039f\"],[0.2222222222222222,\"#7201a8\"],[0.3333333333333333,\"#9c179e\"],[0.4444444444444444,\"#bd3786\"],[0.5555555555555556,\"#d8576b\"],[0.6666666666666666,\"#ed7953\"],[0.7777777777777778,\"#fb9f3a\"],[0.8888888888888888,\"#fdca26\"],[1.0,\"#f0f921\"]]}],\"heatmap\":[{\"type\":\"heatmap\",\"colorbar\":{\"outlinewidth\":0,\"ticks\":\"\"},\"colorscale\":[[0.0,\"#0d0887\"],[0.1111111111111111,\"#46039f\"],[0.2222222222222222,\"#7201a8\"],[0.3333333333333333,\"#9c179e\"],[0.4444444444444444,\"#bd3786\"],[0.5555555555555556,\"#d8576b\"],[0.6666666666666666,\"#ed7953\"],[0.7777777777777778,\"#fb9f3a\"],[0.8888888888888888,\"#fdca26\"],[1.0,\"#f0f921\"]]}],\"heatmapgl\":[{\"type\":\"heatmapgl\",\"colorbar\":{\"outlinewidth\":0,\"ticks\":\"\"},\"colorscale\":[[0.0,\"#0d0887\"],[0.1111111111111111,\"#46039f\"],[0.2222222222222222,\"#7201a8\"],[0.3333333333333333,\"#9c179e\"],[0.4444444444444444,\"#bd3786\"],[0.5555555555555556,\"#d8576b\"],[0.6666666666666666,\"#ed7953\"],[0.7777777777777778,\"#fb9f3a\"],[0.8888888888888888,\"#fdca26\"],[1.0,\"#f0f921\"]]}],\"contourcarpet\":[{\"type\":\"contourcarpet\",\"colorbar\":{\"outlinewidth\":0,\"ticks\":\"\"}}],\"contour\":[{\"type\":\"contour\",\"colorbar\":{\"outlinewidth\":0,\"ticks\":\"\"},\"colorscale\":[[0.0,\"#0d0887\"],[0.1111111111111111,\"#46039f\"],[0.2222222222222222,\"#7201a8\"],[0.3333333333333333,\"#9c179e\"],[0.4444444444444444,\"#bd3786\"],[0.5555555555555556,\"#d8576b\"],[0.6666666666666666,\"#ed7953\"],[0.7777777777777778,\"#fb9f3a\"],[0.8888888888888888,\"#fdca26\"],[1.0,\"#f0f921\"]]}],\"surface\":[{\"type\":\"surface\",\"colorbar\":{\"outlinewidth\":0,\"ticks\":\"\"},\"colorscale\":[[0.0,\"#0d0887\"],[0.1111111111111111,\"#46039f\"],[0.2222222222222222,\"#7201a8\"],[0.3333333333333333,\"#9c179e\"],[0.4444444444444444,\"#bd3786\"],[0.5555555555555556,\"#d8576b\"],[0.6666666666666666,\"#ed7953\"],[0.7777777777777778,\"#fb9f3a\"],[0.8888888888888888,\"#fdca26\"],[1.0,\"#f0f921\"]]}],\"mesh3d\":[{\"type\":\"mesh3d\",\"colorbar\":{\"outlinewidth\":0,\"ticks\":\"\"}}],\"scatter\":[{\"fillpattern\":{\"fillmode\":\"overlay\",\"size\":10,\"solidity\":0.2},\"type\":\"scatter\"}],\"parcoords\":[{\"type\":\"parcoords\",\"line\":{\"colorbar\":{\"outlinewidth\":0,\"ticks\":\"\"}}}],\"scatterpolargl\":[{\"type\":\"scatterpolargl\",\"marker\":{\"colorbar\":{\"outlinewidth\":0,\"ticks\":\"\"}}}],\"bar\":[{\"error_x\":{\"color\":\"#2a3f5f\"},\"error_y\":{\"color\":\"#2a3f5f\"},\"marker\":{\"line\":{\"color\":\"#E5ECF6\",\"width\":0.5},\"pattern\":{\"fillmode\":\"overlay\",\"size\":10,\"solidity\":0.2}},\"type\":\"bar\"}],\"scattergeo\":[{\"type\":\"scattergeo\",\"marker\":{\"colorbar\":{\"outlinewidth\":0,\"ticks\":\"\"}}}],\"scatterpolar\":[{\"type\":\"scatterpolar\",\"marker\":{\"colorbar\":{\"outlinewidth\":0,\"ticks\":\"\"}}}],\"histogram\":[{\"marker\":{\"pattern\":{\"fillmode\":\"overlay\",\"size\":10,\"solidity\":0.2}},\"type\":\"histogram\"}],\"scattergl\":[{\"type\":\"scattergl\",\"marker\":{\"colorbar\":{\"outlinewidth\":0,\"ticks\":\"\"}}}],\"scatter3d\":[{\"type\":\"scatter3d\",\"line\":{\"colorbar\":{\"outlinewidth\":0,\"ticks\":\"\"}},\"marker\":{\"colorbar\":{\"outlinewidth\":0,\"ticks\":\"\"}}}],\"scattermapbox\":[{\"type\":\"scattermapbox\",\"marker\":{\"colorbar\":{\"outlinewidth\":0,\"ticks\":\"\"}}}],\"scatterternary\":[{\"type\":\"scatterternary\",\"marker\":{\"colorbar\":{\"outlinewidth\":0,\"ticks\":\"\"}}}],\"scattercarpet\":[{\"type\":\"scattercarpet\",\"marker\":{\"colorbar\":{\"outlinewidth\":0,\"ticks\":\"\"}}}],\"carpet\":[{\"aaxis\":{\"endlinecolor\":\"#2a3f5f\",\"gridcolor\":\"white\",\"linecolor\":\"white\",\"minorgridcolor\":\"white\",\"startlinecolor\":\"#2a3f5f\"},\"baxis\":{\"endlinecolor\":\"#2a3f5f\",\"gridcolor\":\"white\",\"linecolor\":\"white\",\"minorgridcolor\":\"white\",\"startlinecolor\":\"#2a3f5f\"},\"type\":\"carpet\"}],\"table\":[{\"cells\":{\"fill\":{\"color\":\"#EBF0F8\"},\"line\":{\"color\":\"white\"}},\"header\":{\"fill\":{\"color\":\"#C8D4E3\"},\"line\":{\"color\":\"white\"}},\"type\":\"table\"}],\"barpolar\":[{\"marker\":{\"line\":{\"color\":\"#E5ECF6\",\"width\":0.5},\"pattern\":{\"fillmode\":\"overlay\",\"size\":10,\"solidity\":0.2}},\"type\":\"barpolar\"}],\"pie\":[{\"automargin\":true,\"type\":\"pie\"}]},\"layout\":{\"autotypenumbers\":\"strict\",\"colorway\":[\"#636efa\",\"#EF553B\",\"#00cc96\",\"#ab63fa\",\"#FFA15A\",\"#19d3f3\",\"#FF6692\",\"#B6E880\",\"#FF97FF\",\"#FECB52\"],\"font\":{\"color\":\"#2a3f5f\"},\"hovermode\":\"closest\",\"hoverlabel\":{\"align\":\"left\"},\"paper_bgcolor\":\"white\",\"plot_bgcolor\":\"#E5ECF6\",\"polar\":{\"bgcolor\":\"#E5ECF6\",\"angularaxis\":{\"gridcolor\":\"white\",\"linecolor\":\"white\",\"ticks\":\"\"},\"radialaxis\":{\"gridcolor\":\"white\",\"linecolor\":\"white\",\"ticks\":\"\"}},\"ternary\":{\"bgcolor\":\"#E5ECF6\",\"aaxis\":{\"gridcolor\":\"white\",\"linecolor\":\"white\",\"ticks\":\"\"},\"baxis\":{\"gridcolor\":\"white\",\"linecolor\":\"white\",\"ticks\":\"\"},\"caxis\":{\"gridcolor\":\"white\",\"linecolor\":\"white\",\"ticks\":\"\"}},\"coloraxis\":{\"colorbar\":{\"outlinewidth\":0,\"ticks\":\"\"}},\"colorscale\":{\"sequential\":[[0.0,\"#0d0887\"],[0.1111111111111111,\"#46039f\"],[0.2222222222222222,\"#7201a8\"],[0.3333333333333333,\"#9c179e\"],[0.4444444444444444,\"#bd3786\"],[0.5555555555555556,\"#d8576b\"],[0.6666666666666666,\"#ed7953\"],[0.7777777777777778,\"#fb9f3a\"],[0.8888888888888888,\"#fdca26\"],[1.0,\"#f0f921\"]],\"sequentialminus\":[[0.0,\"#0d0887\"],[0.1111111111111111,\"#46039f\"],[0.2222222222222222,\"#7201a8\"],[0.3333333333333333,\"#9c179e\"],[0.4444444444444444,\"#bd3786\"],[0.5555555555555556,\"#d8576b\"],[0.6666666666666666,\"#ed7953\"],[0.7777777777777778,\"#fb9f3a\"],[0.8888888888888888,\"#fdca26\"],[1.0,\"#f0f921\"]],\"diverging\":[[0,\"#8e0152\"],[0.1,\"#c51b7d\"],[0.2,\"#de77ae\"],[0.3,\"#f1b6da\"],[0.4,\"#fde0ef\"],[0.5,\"#f7f7f7\"],[0.6,\"#e6f5d0\"],[0.7,\"#b8e186\"],[0.8,\"#7fbc41\"],[0.9,\"#4d9221\"],[1,\"#276419\"]]},\"xaxis\":{\"gridcolor\":\"white\",\"linecolor\":\"white\",\"ticks\":\"\",\"title\":{\"standoff\":15},\"zerolinecolor\":\"white\",\"automargin\":true,\"zerolinewidth\":2},\"yaxis\":{\"gridcolor\":\"white\",\"linecolor\":\"white\",\"ticks\":\"\",\"title\":{\"standoff\":15},\"zerolinecolor\":\"white\",\"automargin\":true,\"zerolinewidth\":2},\"scene\":{\"xaxis\":{\"backgroundcolor\":\"#E5ECF6\",\"gridcolor\":\"white\",\"linecolor\":\"white\",\"showbackground\":true,\"ticks\":\"\",\"zerolinecolor\":\"white\",\"gridwidth\":2},\"yaxis\":{\"backgroundcolor\":\"#E5ECF6\",\"gridcolor\":\"white\",\"linecolor\":\"white\",\"showbackground\":true,\"ticks\":\"\",\"zerolinecolor\":\"white\",\"gridwidth\":2},\"zaxis\":{\"backgroundcolor\":\"#E5ECF6\",\"gridcolor\":\"white\",\"linecolor\":\"white\",\"showbackground\":true,\"ticks\":\"\",\"zerolinecolor\":\"white\",\"gridwidth\":2}},\"shapedefaults\":{\"line\":{\"color\":\"#2a3f5f\"}},\"annotationdefaults\":{\"arrowcolor\":\"#2a3f5f\",\"arrowhead\":0,\"arrowwidth\":1},\"geo\":{\"bgcolor\":\"white\",\"landcolor\":\"#E5ECF6\",\"subunitcolor\":\"white\",\"showland\":true,\"showlakes\":true,\"lakecolor\":\"white\"},\"title\":{\"x\":0.05},\"mapbox\":{\"style\":\"light\"}}},\"legend\":{\"tracegroupgap\":0},\"title\":{\"text\":\"Paid-Unpaid Pie Chart for Link Posts\"}},                        {\"responsive\": true}                    ).then(function(){\n",
       "                            \n",
       "var gd = document.getElementById('5aa7fc75-5ae1-4ca0-905b-40f1d80d532f');\n",
       "var x = new MutationObserver(function (mutations, observer) {{\n",
       "        var display = window.getComputedStyle(gd).display;\n",
       "        if (!display || display === 'none') {{\n",
       "            console.log([gd, 'removed!']);\n",
       "            Plotly.purge(gd);\n",
       "            observer.disconnect();\n",
       "        }}\n",
       "}});\n",
       "\n",
       "// Listen for the removal of the full notebook cells\n",
       "var notebookContainer = gd.closest('#notebook-container');\n",
       "if (notebookContainer) {{\n",
       "    x.observe(notebookContainer, {childList: true});\n",
       "}}\n",
       "\n",
       "// Listen for the clearing of the current output cell\n",
       "var outputEl = gd.closest('.output');\n",
       "if (outputEl) {{\n",
       "    x.observe(outputEl, {childList: true});\n",
       "}}\n",
       "\n",
       "                        })                };                });            </script>        </div>"
      ]
     },
     "metadata": {},
     "output_type": "display_data"
    }
   ],
   "source": [
    "# paid-unpaid pie chart for link posts\n",
    "df_link_posts_count = df[df['Type']=='Link']['Paid'].value_counts()\n",
    "df_link_posts_count = pd.DataFrame({'Paid': df_link_posts_count.index, 'Count': df_link_posts_count.values})\n",
    "\n",
    "total_number_of_link = df_link_posts_count['Count'].sum()\n",
    "\n",
    "fig = px.pie(df_link_posts_count, values='Count', names='Paid', title='Paid-Unpaid Pie Chart for Link Posts')\n",
    "fig.show()"
   ]
  },
  {
   "cell_type": "code",
   "execution_count": 9,
   "id": "584b0e49",
   "metadata": {
    "execution": {
     "iopub.execute_input": "2024-08-16T13:20:18.671064Z",
     "iopub.status.busy": "2024-08-16T13:20:18.670281Z",
     "iopub.status.idle": "2024-08-16T13:20:18.722357Z",
     "shell.execute_reply": "2024-08-16T13:20:18.721265Z"
    },
    "papermill": {
     "duration": 0.066849,
     "end_time": "2024-08-16T13:20:18.725176",
     "exception": false,
     "start_time": "2024-08-16T13:20:18.658327",
     "status": "completed"
    },
    "tags": []
   },
   "outputs": [
    {
     "data": {
      "text/html": [
       "<div>                            <div id=\"b70095b4-5dfa-4d89-acdc-b57e78f4afd8\" class=\"plotly-graph-div\" style=\"height:525px; width:100%;\"></div>            <script type=\"text/javascript\">                require([\"plotly\"], function(Plotly) {                    window.PLOTLYENV=window.PLOTLYENV || {};                                    if (document.getElementById(\"b70095b4-5dfa-4d89-acdc-b57e78f4afd8\")) {                    Plotly.newPlot(                        \"b70095b4-5dfa-4d89-acdc-b57e78f4afd8\",                        [{\"domain\":{\"x\":[0.0,1.0],\"y\":[0.0,1.0]},\"hovertemplate\":\"Paid=%{label}\\u003cbr\\u003eCount=%{value}\\u003cextra\\u003e\\u003c\\u002fextra\\u003e\",\"labels\":[1.0,0.0],\"legendgroup\":\"\",\"name\":\"\",\"showlegend\":true,\"values\":[4,3],\"type\":\"pie\"}],                        {\"template\":{\"data\":{\"histogram2dcontour\":[{\"type\":\"histogram2dcontour\",\"colorbar\":{\"outlinewidth\":0,\"ticks\":\"\"},\"colorscale\":[[0.0,\"#0d0887\"],[0.1111111111111111,\"#46039f\"],[0.2222222222222222,\"#7201a8\"],[0.3333333333333333,\"#9c179e\"],[0.4444444444444444,\"#bd3786\"],[0.5555555555555556,\"#d8576b\"],[0.6666666666666666,\"#ed7953\"],[0.7777777777777778,\"#fb9f3a\"],[0.8888888888888888,\"#fdca26\"],[1.0,\"#f0f921\"]]}],\"choropleth\":[{\"type\":\"choropleth\",\"colorbar\":{\"outlinewidth\":0,\"ticks\":\"\"}}],\"histogram2d\":[{\"type\":\"histogram2d\",\"colorbar\":{\"outlinewidth\":0,\"ticks\":\"\"},\"colorscale\":[[0.0,\"#0d0887\"],[0.1111111111111111,\"#46039f\"],[0.2222222222222222,\"#7201a8\"],[0.3333333333333333,\"#9c179e\"],[0.4444444444444444,\"#bd3786\"],[0.5555555555555556,\"#d8576b\"],[0.6666666666666666,\"#ed7953\"],[0.7777777777777778,\"#fb9f3a\"],[0.8888888888888888,\"#fdca26\"],[1.0,\"#f0f921\"]]}],\"heatmap\":[{\"type\":\"heatmap\",\"colorbar\":{\"outlinewidth\":0,\"ticks\":\"\"},\"colorscale\":[[0.0,\"#0d0887\"],[0.1111111111111111,\"#46039f\"],[0.2222222222222222,\"#7201a8\"],[0.3333333333333333,\"#9c179e\"],[0.4444444444444444,\"#bd3786\"],[0.5555555555555556,\"#d8576b\"],[0.6666666666666666,\"#ed7953\"],[0.7777777777777778,\"#fb9f3a\"],[0.8888888888888888,\"#fdca26\"],[1.0,\"#f0f921\"]]}],\"heatmapgl\":[{\"type\":\"heatmapgl\",\"colorbar\":{\"outlinewidth\":0,\"ticks\":\"\"},\"colorscale\":[[0.0,\"#0d0887\"],[0.1111111111111111,\"#46039f\"],[0.2222222222222222,\"#7201a8\"],[0.3333333333333333,\"#9c179e\"],[0.4444444444444444,\"#bd3786\"],[0.5555555555555556,\"#d8576b\"],[0.6666666666666666,\"#ed7953\"],[0.7777777777777778,\"#fb9f3a\"],[0.8888888888888888,\"#fdca26\"],[1.0,\"#f0f921\"]]}],\"contourcarpet\":[{\"type\":\"contourcarpet\",\"colorbar\":{\"outlinewidth\":0,\"ticks\":\"\"}}],\"contour\":[{\"type\":\"contour\",\"colorbar\":{\"outlinewidth\":0,\"ticks\":\"\"},\"colorscale\":[[0.0,\"#0d0887\"],[0.1111111111111111,\"#46039f\"],[0.2222222222222222,\"#7201a8\"],[0.3333333333333333,\"#9c179e\"],[0.4444444444444444,\"#bd3786\"],[0.5555555555555556,\"#d8576b\"],[0.6666666666666666,\"#ed7953\"],[0.7777777777777778,\"#fb9f3a\"],[0.8888888888888888,\"#fdca26\"],[1.0,\"#f0f921\"]]}],\"surface\":[{\"type\":\"surface\",\"colorbar\":{\"outlinewidth\":0,\"ticks\":\"\"},\"colorscale\":[[0.0,\"#0d0887\"],[0.1111111111111111,\"#46039f\"],[0.2222222222222222,\"#7201a8\"],[0.3333333333333333,\"#9c179e\"],[0.4444444444444444,\"#bd3786\"],[0.5555555555555556,\"#d8576b\"],[0.6666666666666666,\"#ed7953\"],[0.7777777777777778,\"#fb9f3a\"],[0.8888888888888888,\"#fdca26\"],[1.0,\"#f0f921\"]]}],\"mesh3d\":[{\"type\":\"mesh3d\",\"colorbar\":{\"outlinewidth\":0,\"ticks\":\"\"}}],\"scatter\":[{\"fillpattern\":{\"fillmode\":\"overlay\",\"size\":10,\"solidity\":0.2},\"type\":\"scatter\"}],\"parcoords\":[{\"type\":\"parcoords\",\"line\":{\"colorbar\":{\"outlinewidth\":0,\"ticks\":\"\"}}}],\"scatterpolargl\":[{\"type\":\"scatterpolargl\",\"marker\":{\"colorbar\":{\"outlinewidth\":0,\"ticks\":\"\"}}}],\"bar\":[{\"error_x\":{\"color\":\"#2a3f5f\"},\"error_y\":{\"color\":\"#2a3f5f\"},\"marker\":{\"line\":{\"color\":\"#E5ECF6\",\"width\":0.5},\"pattern\":{\"fillmode\":\"overlay\",\"size\":10,\"solidity\":0.2}},\"type\":\"bar\"}],\"scattergeo\":[{\"type\":\"scattergeo\",\"marker\":{\"colorbar\":{\"outlinewidth\":0,\"ticks\":\"\"}}}],\"scatterpolar\":[{\"type\":\"scatterpolar\",\"marker\":{\"colorbar\":{\"outlinewidth\":0,\"ticks\":\"\"}}}],\"histogram\":[{\"marker\":{\"pattern\":{\"fillmode\":\"overlay\",\"size\":10,\"solidity\":0.2}},\"type\":\"histogram\"}],\"scattergl\":[{\"type\":\"scattergl\",\"marker\":{\"colorbar\":{\"outlinewidth\":0,\"ticks\":\"\"}}}],\"scatter3d\":[{\"type\":\"scatter3d\",\"line\":{\"colorbar\":{\"outlinewidth\":0,\"ticks\":\"\"}},\"marker\":{\"colorbar\":{\"outlinewidth\":0,\"ticks\":\"\"}}}],\"scattermapbox\":[{\"type\":\"scattermapbox\",\"marker\":{\"colorbar\":{\"outlinewidth\":0,\"ticks\":\"\"}}}],\"scatterternary\":[{\"type\":\"scatterternary\",\"marker\":{\"colorbar\":{\"outlinewidth\":0,\"ticks\":\"\"}}}],\"scattercarpet\":[{\"type\":\"scattercarpet\",\"marker\":{\"colorbar\":{\"outlinewidth\":0,\"ticks\":\"\"}}}],\"carpet\":[{\"aaxis\":{\"endlinecolor\":\"#2a3f5f\",\"gridcolor\":\"white\",\"linecolor\":\"white\",\"minorgridcolor\":\"white\",\"startlinecolor\":\"#2a3f5f\"},\"baxis\":{\"endlinecolor\":\"#2a3f5f\",\"gridcolor\":\"white\",\"linecolor\":\"white\",\"minorgridcolor\":\"white\",\"startlinecolor\":\"#2a3f5f\"},\"type\":\"carpet\"}],\"table\":[{\"cells\":{\"fill\":{\"color\":\"#EBF0F8\"},\"line\":{\"color\":\"white\"}},\"header\":{\"fill\":{\"color\":\"#C8D4E3\"},\"line\":{\"color\":\"white\"}},\"type\":\"table\"}],\"barpolar\":[{\"marker\":{\"line\":{\"color\":\"#E5ECF6\",\"width\":0.5},\"pattern\":{\"fillmode\":\"overlay\",\"size\":10,\"solidity\":0.2}},\"type\":\"barpolar\"}],\"pie\":[{\"automargin\":true,\"type\":\"pie\"}]},\"layout\":{\"autotypenumbers\":\"strict\",\"colorway\":[\"#636efa\",\"#EF553B\",\"#00cc96\",\"#ab63fa\",\"#FFA15A\",\"#19d3f3\",\"#FF6692\",\"#B6E880\",\"#FF97FF\",\"#FECB52\"],\"font\":{\"color\":\"#2a3f5f\"},\"hovermode\":\"closest\",\"hoverlabel\":{\"align\":\"left\"},\"paper_bgcolor\":\"white\",\"plot_bgcolor\":\"#E5ECF6\",\"polar\":{\"bgcolor\":\"#E5ECF6\",\"angularaxis\":{\"gridcolor\":\"white\",\"linecolor\":\"white\",\"ticks\":\"\"},\"radialaxis\":{\"gridcolor\":\"white\",\"linecolor\":\"white\",\"ticks\":\"\"}},\"ternary\":{\"bgcolor\":\"#E5ECF6\",\"aaxis\":{\"gridcolor\":\"white\",\"linecolor\":\"white\",\"ticks\":\"\"},\"baxis\":{\"gridcolor\":\"white\",\"linecolor\":\"white\",\"ticks\":\"\"},\"caxis\":{\"gridcolor\":\"white\",\"linecolor\":\"white\",\"ticks\":\"\"}},\"coloraxis\":{\"colorbar\":{\"outlinewidth\":0,\"ticks\":\"\"}},\"colorscale\":{\"sequential\":[[0.0,\"#0d0887\"],[0.1111111111111111,\"#46039f\"],[0.2222222222222222,\"#7201a8\"],[0.3333333333333333,\"#9c179e\"],[0.4444444444444444,\"#bd3786\"],[0.5555555555555556,\"#d8576b\"],[0.6666666666666666,\"#ed7953\"],[0.7777777777777778,\"#fb9f3a\"],[0.8888888888888888,\"#fdca26\"],[1.0,\"#f0f921\"]],\"sequentialminus\":[[0.0,\"#0d0887\"],[0.1111111111111111,\"#46039f\"],[0.2222222222222222,\"#7201a8\"],[0.3333333333333333,\"#9c179e\"],[0.4444444444444444,\"#bd3786\"],[0.5555555555555556,\"#d8576b\"],[0.6666666666666666,\"#ed7953\"],[0.7777777777777778,\"#fb9f3a\"],[0.8888888888888888,\"#fdca26\"],[1.0,\"#f0f921\"]],\"diverging\":[[0,\"#8e0152\"],[0.1,\"#c51b7d\"],[0.2,\"#de77ae\"],[0.3,\"#f1b6da\"],[0.4,\"#fde0ef\"],[0.5,\"#f7f7f7\"],[0.6,\"#e6f5d0\"],[0.7,\"#b8e186\"],[0.8,\"#7fbc41\"],[0.9,\"#4d9221\"],[1,\"#276419\"]]},\"xaxis\":{\"gridcolor\":\"white\",\"linecolor\":\"white\",\"ticks\":\"\",\"title\":{\"standoff\":15},\"zerolinecolor\":\"white\",\"automargin\":true,\"zerolinewidth\":2},\"yaxis\":{\"gridcolor\":\"white\",\"linecolor\":\"white\",\"ticks\":\"\",\"title\":{\"standoff\":15},\"zerolinecolor\":\"white\",\"automargin\":true,\"zerolinewidth\":2},\"scene\":{\"xaxis\":{\"backgroundcolor\":\"#E5ECF6\",\"gridcolor\":\"white\",\"linecolor\":\"white\",\"showbackground\":true,\"ticks\":\"\",\"zerolinecolor\":\"white\",\"gridwidth\":2},\"yaxis\":{\"backgroundcolor\":\"#E5ECF6\",\"gridcolor\":\"white\",\"linecolor\":\"white\",\"showbackground\":true,\"ticks\":\"\",\"zerolinecolor\":\"white\",\"gridwidth\":2},\"zaxis\":{\"backgroundcolor\":\"#E5ECF6\",\"gridcolor\":\"white\",\"linecolor\":\"white\",\"showbackground\":true,\"ticks\":\"\",\"zerolinecolor\":\"white\",\"gridwidth\":2}},\"shapedefaults\":{\"line\":{\"color\":\"#2a3f5f\"}},\"annotationdefaults\":{\"arrowcolor\":\"#2a3f5f\",\"arrowhead\":0,\"arrowwidth\":1},\"geo\":{\"bgcolor\":\"white\",\"landcolor\":\"#E5ECF6\",\"subunitcolor\":\"white\",\"showland\":true,\"showlakes\":true,\"lakecolor\":\"white\"},\"title\":{\"x\":0.05},\"mapbox\":{\"style\":\"light\"}}},\"legend\":{\"tracegroupgap\":0},\"title\":{\"text\":\"Paid-Unpaid Pie Chart for Video Posts\"}},                        {\"responsive\": true}                    ).then(function(){\n",
       "                            \n",
       "var gd = document.getElementById('b70095b4-5dfa-4d89-acdc-b57e78f4afd8');\n",
       "var x = new MutationObserver(function (mutations, observer) {{\n",
       "        var display = window.getComputedStyle(gd).display;\n",
       "        if (!display || display === 'none') {{\n",
       "            console.log([gd, 'removed!']);\n",
       "            Plotly.purge(gd);\n",
       "            observer.disconnect();\n",
       "        }}\n",
       "}});\n",
       "\n",
       "// Listen for the removal of the full notebook cells\n",
       "var notebookContainer = gd.closest('#notebook-container');\n",
       "if (notebookContainer) {{\n",
       "    x.observe(notebookContainer, {childList: true});\n",
       "}}\n",
       "\n",
       "// Listen for the clearing of the current output cell\n",
       "var outputEl = gd.closest('.output');\n",
       "if (outputEl) {{\n",
       "    x.observe(outputEl, {childList: true});\n",
       "}}\n",
       "\n",
       "                        })                };                });            </script>        </div>"
      ]
     },
     "metadata": {},
     "output_type": "display_data"
    }
   ],
   "source": [
    "# paid-unpaid pie chart for video posts\n",
    "df_video_posts_count = df[df['Type']=='Video']['Paid'].value_counts()\n",
    "df_video_posts_count = pd.DataFrame({'Paid': df_video_posts_count.index, 'Count': df_video_posts_count.values})\n",
    "\n",
    "total_number_of_video = df_video_posts_count['Count'].sum()\n",
    "\n",
    "fig = px.pie(df_video_posts_count, values='Count', names='Paid', title='Paid-Unpaid Pie Chart for Video Posts')\n",
    "fig.show()"
   ]
  },
  {
   "cell_type": "markdown",
   "id": "3d26be37",
   "metadata": {
    "papermill": {
     "duration": 0.011715,
     "end_time": "2024-08-16T13:20:18.748683",
     "exception": false,
     "start_time": "2024-08-16T13:20:18.736968",
     "status": "completed"
    },
    "tags": []
   },
   "source": [
    "Let's merge them in a table with create their <code>Paid Rate</code> and <code>Unpaid Rate</code>."
   ]
  },
  {
   "cell_type": "code",
   "execution_count": 10,
   "id": "49694611",
   "metadata": {
    "execution": {
     "iopub.execute_input": "2024-08-16T13:20:18.769739Z",
     "iopub.status.busy": "2024-08-16T13:20:18.768841Z",
     "iopub.status.idle": "2024-08-16T13:20:18.787881Z",
     "shell.execute_reply": "2024-08-16T13:20:18.786652Z"
    },
    "papermill": {
     "duration": 0.031833,
     "end_time": "2024-08-16T13:20:18.790254",
     "exception": false,
     "start_time": "2024-08-16T13:20:18.758421",
     "status": "completed"
    },
    "tags": []
   },
   "outputs": [
    {
     "data": {
      "text/html": [
       "<div>\n",
       "<style scoped>\n",
       "    .dataframe tbody tr th:only-of-type {\n",
       "        vertical-align: middle;\n",
       "    }\n",
       "\n",
       "    .dataframe tbody tr th {\n",
       "        vertical-align: top;\n",
       "    }\n",
       "\n",
       "    .dataframe thead th {\n",
       "        text-align: right;\n",
       "    }\n",
       "</style>\n",
       "<table border=\"1\" class=\"dataframe\">\n",
       "  <thead>\n",
       "    <tr style=\"text-align: right;\">\n",
       "      <th></th>\n",
       "      <th>Type</th>\n",
       "      <th>Paid Rate</th>\n",
       "      <th>Unpaid Rate</th>\n",
       "    </tr>\n",
       "  </thead>\n",
       "  <tbody>\n",
       "    <tr>\n",
       "      <th>3</th>\n",
       "      <td>Video</td>\n",
       "      <td>0.571429</td>\n",
       "      <td>0.428571</td>\n",
       "    </tr>\n",
       "    <tr>\n",
       "      <th>0</th>\n",
       "      <td>Photo</td>\n",
       "      <td>0.280000</td>\n",
       "      <td>0.720000</td>\n",
       "    </tr>\n",
       "    <tr>\n",
       "      <th>2</th>\n",
       "      <td>Link</td>\n",
       "      <td>0.272727</td>\n",
       "      <td>0.727273</td>\n",
       "    </tr>\n",
       "    <tr>\n",
       "      <th>1</th>\n",
       "      <td>Status</td>\n",
       "      <td>0.222222</td>\n",
       "      <td>0.777778</td>\n",
       "    </tr>\n",
       "  </tbody>\n",
       "</table>\n",
       "</div>"
      ],
      "text/plain": [
       "     Type  Paid Rate  Unpaid Rate\n",
       "3   Video   0.571429     0.428571\n",
       "0   Photo   0.280000     0.720000\n",
       "2    Link   0.272727     0.727273\n",
       "1  Status   0.222222     0.777778"
      ]
     },
     "execution_count": 10,
     "metadata": {},
     "output_type": "execute_result"
    }
   ],
   "source": [
    "# paid-unpaid rate of post types in order\n",
    "df_paid_posts = df[df['Paid']==1]['Type'].value_counts()\n",
    "df_paid_posts = pd.DataFrame({'Type': df_paid_posts.index, 'Paid Rate': df_paid_posts.values})\n",
    "df_paid_posts['Paid Rate'] = df_paid_posts['Paid Rate'].astype(float)\n",
    "\n",
    "df_paid_posts.iloc[0, 1] = df_paid_posts.iloc[0, 1] / total_number_of_photos\n",
    "df_paid_posts.iloc[1, 1] = df_paid_posts.iloc[1, 1] / total_number_of_status\n",
    "df_paid_posts.iloc[2, 1] = df_paid_posts.iloc[2, 1] / total_number_of_link\n",
    "df_paid_posts.iloc[3, 1] = df_paid_posts.iloc[3, 1] / total_number_of_video\n",
    "\n",
    "df_paid_posts['Unpaid Rate'] = 1 - df_paid_posts['Paid Rate']\n",
    "df_paid_posts.sort_values(by='Paid Rate', ascending=False, inplace=True)\n",
    "df_paid_posts"
   ]
  },
  {
   "cell_type": "markdown",
   "id": "e175167e",
   "metadata": {
    "papermill": {
     "duration": 0.008934,
     "end_time": "2024-08-16T13:20:18.808764",
     "exception": false,
     "start_time": "2024-08-16T13:20:18.799830",
     "status": "completed"
    },
    "tags": []
   },
   "source": [
    "We sorted values with the highest to the lowest <code>Paid Rates</code>. As you can see, video posts have the highest paid rate. The most used post type (photos) is not in the first place.\n",
    "\n",
    "From here, we can say that this cosmetics brand should use more video posts to sell their products. Let's continue with data preprocessing."
   ]
  },
  {
   "cell_type": "markdown",
   "id": "53abddf6",
   "metadata": {
    "papermill": {
     "duration": 0.009191,
     "end_time": "2024-08-16T13:20:18.828153",
     "exception": false,
     "start_time": "2024-08-16T13:20:18.818962",
     "status": "completed"
    },
    "tags": []
   },
   "source": [
    "## Data Preprocessing\n",
    "\n",
    "We do not have to do so many things here. We will see that, if we have lots of null values in our dataset. If no, we will remove null rows and continue.\n",
    "\n",
    "Also, we will <code>map</code> our <code>Type</code> column values like a numerical values, and make this column's type as <code>int</code>."
   ]
  },
  {
   "cell_type": "code",
   "execution_count": 11,
   "id": "d77f8b33",
   "metadata": {
    "execution": {
     "iopub.execute_input": "2024-08-16T13:20:18.849735Z",
     "iopub.status.busy": "2024-08-16T13:20:18.849331Z",
     "iopub.status.idle": "2024-08-16T13:20:18.859394Z",
     "shell.execute_reply": "2024-08-16T13:20:18.858049Z"
    },
    "papermill": {
     "duration": 0.023874,
     "end_time": "2024-08-16T13:20:18.862214",
     "exception": false,
     "start_time": "2024-08-16T13:20:18.838340",
     "status": "completed"
    },
    "tags": []
   },
   "outputs": [
    {
     "name": "stdout",
     "output_type": "stream",
     "text": [
      "Before the process:\n",
      "Page total likes                                                       0\n",
      "Type                                                                   0\n",
      "Category                                                               0\n",
      "Post Month                                                             0\n",
      "Post Weekday                                                           0\n",
      "Post Hour                                                              0\n",
      "Paid                                                                   1\n",
      "Lifetime Post Total Reach                                              0\n",
      "Lifetime Post Total Impressions                                        0\n",
      "Lifetime Engaged Users                                                 0\n",
      "Lifetime Post Consumers                                                0\n",
      "Lifetime Post Consumptions                                             0\n",
      "Lifetime Post Impressions by people who have liked your Page           0\n",
      "Lifetime Post reach by people who like your Page                       0\n",
      "Lifetime People who have liked your Page and engaged with your post    0\n",
      "Total Interactions                                                     0\n",
      "dtype: int64\n",
      "\n",
      "After the process:\n",
      "Page total likes                                                       0\n",
      "Type                                                                   0\n",
      "Category                                                               0\n",
      "Post Month                                                             0\n",
      "Post Weekday                                                           0\n",
      "Post Hour                                                              0\n",
      "Paid                                                                   0\n",
      "Lifetime Post Total Reach                                              0\n",
      "Lifetime Post Total Impressions                                        0\n",
      "Lifetime Engaged Users                                                 0\n",
      "Lifetime Post Consumers                                                0\n",
      "Lifetime Post Consumptions                                             0\n",
      "Lifetime Post Impressions by people who have liked your Page           0\n",
      "Lifetime Post reach by people who like your Page                       0\n",
      "Lifetime People who have liked your Page and engaged with your post    0\n",
      "Total Interactions                                                     0\n",
      "dtype: int64\n"
     ]
    }
   ],
   "source": [
    "# fulfill the empty cells\n",
    "print(f'Before the process:\\n{df.isnull().sum()}')\n",
    "df.dropna(axis=0, inplace=True)\n",
    "print(f'\\nAfter the process:\\n{df.isnull().sum()}')"
   ]
  },
  {
   "cell_type": "markdown",
   "id": "565dd2a0",
   "metadata": {
    "papermill": {
     "duration": 0.009188,
     "end_time": "2024-08-16T13:20:18.881080",
     "exception": false,
     "start_time": "2024-08-16T13:20:18.871892",
     "status": "completed"
    },
    "tags": []
   },
   "source": [
    "As you can see, there is no empty cells in our dataset right now. Let's map the <code>Type</code> column."
   ]
  },
  {
   "cell_type": "code",
   "execution_count": 12,
   "id": "6c97fd88",
   "metadata": {
    "execution": {
     "iopub.execute_input": "2024-08-16T13:20:18.901161Z",
     "iopub.status.busy": "2024-08-16T13:20:18.900775Z",
     "iopub.status.idle": "2024-08-16T13:20:18.906490Z",
     "shell.execute_reply": "2024-08-16T13:20:18.905531Z"
    },
    "papermill": {
     "duration": 0.018463,
     "end_time": "2024-08-16T13:20:18.908812",
     "exception": false,
     "start_time": "2024-08-16T13:20:18.890349",
     "status": "completed"
    },
    "tags": []
   },
   "outputs": [
    {
     "name": "stdout",
     "output_type": "stream",
     "text": [
      "The dataset has 499 rows and 16 columns.\n"
     ]
    }
   ],
   "source": [
    "# gather some information about how many rows and columns we have\n",
    "print(f'''The dataset has {df.shape[0]} rows and {df.shape[1]} columns.''')"
   ]
  },
  {
   "cell_type": "markdown",
   "id": "847d878d",
   "metadata": {
    "papermill": {
     "duration": 0.010096,
     "end_time": "2024-08-16T13:20:18.928765",
     "exception": false,
     "start_time": "2024-08-16T13:20:18.918669",
     "status": "completed"
    },
    "tags": []
   },
   "source": [
    "Let's map the <code>Type</code> column."
   ]
  },
  {
   "cell_type": "code",
   "execution_count": 13,
   "id": "d8fb0ff6",
   "metadata": {
    "execution": {
     "iopub.execute_input": "2024-08-16T13:20:18.949465Z",
     "iopub.status.busy": "2024-08-16T13:20:18.949079Z",
     "iopub.status.idle": "2024-08-16T13:20:18.962037Z",
     "shell.execute_reply": "2024-08-16T13:20:18.960987Z"
    },
    "papermill": {
     "duration": 0.02652,
     "end_time": "2024-08-16T13:20:18.964810",
     "exception": false,
     "start_time": "2024-08-16T13:20:18.938290",
     "status": "completed"
    },
    "tags": []
   },
   "outputs": [
    {
     "name": "stdout",
     "output_type": "stream",
     "text": [
      "<class 'pandas.core.frame.DataFrame'>\n",
      "Index: 499 entries, 0 to 498\n",
      "Data columns (total 1 columns):\n",
      " #   Column  Non-Null Count  Dtype\n",
      "---  ------  --------------  -----\n",
      " 0   Type    499 non-null    int64\n",
      "dtypes: int64(1)\n",
      "memory usage: 7.8 KB\n"
     ]
    }
   ],
   "source": [
    "# map type column\n",
    "df['Type'] = df['Type'].map({'Photo': 1, 'Status': 2, 'Link': 3, 'Video': 4})\n",
    "df['Type'] = df['Type'].astype(int)\n",
    "\n",
    "df[['Type']].info()"
   ]
  },
  {
   "cell_type": "markdown",
   "id": "f47ce79c",
   "metadata": {
    "papermill": {
     "duration": 0.012226,
     "end_time": "2024-08-16T13:20:18.989479",
     "exception": false,
     "start_time": "2024-08-16T13:20:18.977253",
     "status": "completed"
    },
    "tags": []
   },
   "source": [
    "Success! We are done so far. The time has come for our <code>Machine Learning</code> part in this project."
   ]
  },
  {
   "cell_type": "markdown",
   "id": "6da03288",
   "metadata": {
    "papermill": {
     "duration": 0.014127,
     "end_time": "2024-08-16T13:20:19.014114",
     "exception": false,
     "start_time": "2024-08-16T13:20:18.999987",
     "status": "completed"
    },
    "tags": []
   },
   "source": [
    "## Machine Learning\n",
    "\n",
    "Right now, we have all of the columns with numerical values. So, we are ready to create our prediction model.\n",
    "\n",
    "In this part, we will predict continuous <code>Total Interactions</code> feature. So, we will use a multiple-regression here. Let's start. Firstly, create the <code>X</code> and <code>y</code> variables."
   ]
  },
  {
   "cell_type": "code",
   "execution_count": 14,
   "id": "98c43f35",
   "metadata": {
    "execution": {
     "iopub.execute_input": "2024-08-16T13:20:19.038447Z",
     "iopub.status.busy": "2024-08-16T13:20:19.037653Z",
     "iopub.status.idle": "2024-08-16T13:20:19.048316Z",
     "shell.execute_reply": "2024-08-16T13:20:19.047205Z"
    },
    "papermill": {
     "duration": 0.023738,
     "end_time": "2024-08-16T13:20:19.050707",
     "exception": false,
     "start_time": "2024-08-16T13:20:19.026969",
     "status": "completed"
    },
    "tags": []
   },
   "outputs": [],
   "source": [
    "# create variables and split\n",
    "X = df.drop(['Total Interactions'], axis=1)\n",
    "y = df['Total Interactions']\n",
    "\n",
    "X_train, X_test, y_train, y_test = train_test_split(X, y, test_size=0.2, random_state=42)"
   ]
  },
  {
   "cell_type": "markdown",
   "id": "616d8b48",
   "metadata": {
    "papermill": {
     "duration": 0.008986,
     "end_time": "2024-08-16T13:20:19.069365",
     "exception": false,
     "start_time": "2024-08-16T13:20:19.060379",
     "status": "completed"
    },
    "tags": []
   },
   "source": [
    "So, we can create our multiple-regression model here. Then, fit it. Create the metrics to evaluation."
   ]
  },
  {
   "cell_type": "code",
   "execution_count": 15,
   "id": "f4bb8e28",
   "metadata": {
    "execution": {
     "iopub.execute_input": "2024-08-16T13:20:19.090271Z",
     "iopub.status.busy": "2024-08-16T13:20:19.089377Z",
     "iopub.status.idle": "2024-08-16T13:20:19.127486Z",
     "shell.execute_reply": "2024-08-16T13:20:19.126394Z"
    },
    "papermill": {
     "duration": 0.051289,
     "end_time": "2024-08-16T13:20:19.130066",
     "exception": false,
     "start_time": "2024-08-16T13:20:19.078777",
     "status": "completed"
    },
    "tags": []
   },
   "outputs": [],
   "source": [
    "# create multiple regression model and evaluate\n",
    "lr = LinearRegression().fit(X_train, y_train)\n",
    "y_hat = lr.predict(X_test)\n",
    "\n",
    "mse = mean_squared_error(y_test, y_hat)\n",
    "rmse = sqrt(mse)\n",
    "mape = mean_absolute_percentage_error(y_test, y_hat)"
   ]
  },
  {
   "cell_type": "markdown",
   "id": "10b0319f",
   "metadata": {
    "papermill": {
     "duration": 0.009415,
     "end_time": "2024-08-16T13:20:19.149057",
     "exception": false,
     "start_time": "2024-08-16T13:20:19.139642",
     "status": "completed"
    },
    "tags": []
   },
   "source": [
    "Right now, let's see the model's strength."
   ]
  },
  {
   "cell_type": "code",
   "execution_count": 16,
   "id": "6b1fa278",
   "metadata": {
    "execution": {
     "iopub.execute_input": "2024-08-16T13:20:19.170441Z",
     "iopub.status.busy": "2024-08-16T13:20:19.169623Z",
     "iopub.status.idle": "2024-08-16T13:20:19.182310Z",
     "shell.execute_reply": "2024-08-16T13:20:19.181182Z"
    },
    "papermill": {
     "duration": 0.025706,
     "end_time": "2024-08-16T13:20:19.184590",
     "exception": false,
     "start_time": "2024-08-16T13:20:19.158884",
     "status": "completed"
    },
    "tags": []
   },
   "outputs": [
    {
     "data": {
      "text/html": [
       "<div>\n",
       "<style scoped>\n",
       "    .dataframe tbody tr th:only-of-type {\n",
       "        vertical-align: middle;\n",
       "    }\n",
       "\n",
       "    .dataframe tbody tr th {\n",
       "        vertical-align: top;\n",
       "    }\n",
       "\n",
       "    .dataframe thead th {\n",
       "        text-align: right;\n",
       "    }\n",
       "</style>\n",
       "<table border=\"1\" class=\"dataframe\">\n",
       "  <thead>\n",
       "    <tr style=\"text-align: right;\">\n",
       "      <th></th>\n",
       "      <th>MSE</th>\n",
       "      <th>RMSE</th>\n",
       "      <th>MAPE</th>\n",
       "    </tr>\n",
       "  </thead>\n",
       "  <tbody>\n",
       "    <tr>\n",
       "      <th>0</th>\n",
       "      <td>6088.378511</td>\n",
       "      <td>78.028062</td>\n",
       "      <td>5.668875e+14</td>\n",
       "    </tr>\n",
       "  </tbody>\n",
       "</table>\n",
       "</div>"
      ],
      "text/plain": [
       "           MSE       RMSE          MAPE\n",
       "0  6088.378511  78.028062  5.668875e+14"
      ]
     },
     "execution_count": 16,
     "metadata": {},
     "output_type": "execute_result"
    }
   ],
   "source": [
    "# create table of the scores\n",
    "dict_evaluation = {'MSE': mse, 'RMSE': rmse, 'MAPE': mape}\n",
    "\n",
    "evaluation = pd.DataFrame(dict_evaluation, index=[0])\n",
    "evaluation.head()"
   ]
  },
  {
   "cell_type": "markdown",
   "id": "afe70ac9",
   "metadata": {
    "papermill": {
     "duration": 0.009277,
     "end_time": "2024-08-16T13:20:19.203453",
     "exception": false,
     "start_time": "2024-08-16T13:20:19.194176",
     "status": "completed"
    },
    "tags": []
   },
   "source": [
    "So, you are seeing the performance evaluation. Our multiple-regression model resulted with approximately 6088 MSE score. This means that there is a total error margin of 6088 between the independent variable and the dependent variables. You can also see the other observation metric results in the table.\n",
    "\n",
    "This project finishes right now. Hope that it will be helpful the future projects here."
   ]
  },
  {
   "cell_type": "markdown",
   "id": "f2fc98b9",
   "metadata": {
    "execution": {
     "iopub.execute_input": "2024-08-16T13:01:09.167207Z",
     "iopub.status.busy": "2024-08-16T13:01:09.166715Z",
     "iopub.status.idle": "2024-08-16T13:01:09.176835Z",
     "shell.execute_reply": "2024-08-16T13:01:09.175513Z",
     "shell.execute_reply.started": "2024-08-16T13:01:09.167169Z"
    },
    "papermill": {
     "duration": 0.009177,
     "end_time": "2024-08-16T13:20:19.222081",
     "exception": false,
     "start_time": "2024-08-16T13:20:19.212904",
     "status": "completed"
    },
    "tags": []
   },
   "source": [
    "### Thank you for reading until now.\n",
    "\n",
    "#### Mert Kont"
   ]
  }
 ],
 "metadata": {
  "kaggle": {
   "accelerator": "none",
   "dataSources": [
    {
     "datasetId": 5521938,
     "sourceId": 9142580,
     "sourceType": "datasetVersion"
    }
   ],
   "dockerImageVersionId": 30746,
   "isGpuEnabled": false,
   "isInternetEnabled": true,
   "language": "python",
   "sourceType": "notebook"
  },
  "kernelspec": {
   "display_name": "Python 3",
   "language": "python",
   "name": "python3"
  },
  "language_info": {
   "codemirror_mode": {
    "name": "ipython",
    "version": 3
   },
   "file_extension": ".py",
   "mimetype": "text/x-python",
   "name": "python",
   "nbconvert_exporter": "python",
   "pygments_lexer": "ipython3",
   "version": "3.10.13"
  },
  "papermill": {
   "default_parameters": {},
   "duration": 10.549294,
   "end_time": "2024-08-16T13:20:19.953936",
   "environment_variables": {},
   "exception": null,
   "input_path": "__notebook__.ipynb",
   "output_path": "__notebook__.ipynb",
   "parameters": {},
   "start_time": "2024-08-16T13:20:09.404642",
   "version": "2.5.0"
  }
 },
 "nbformat": 4,
 "nbformat_minor": 5
}
